{
 "cells": [
  {
   "cell_type": "code",
   "execution_count": 1,
   "metadata": {},
   "outputs": [],
   "source": [
    "# OBJECTIF 1 : prédire les émissions de CO2 (GHGEmissions) et la consommation totale d’énergie (SiteEnergyUse)\n",
    "# d'un bâtiment sans utiliser de données du relevés de consommation\n",
    "\n",
    "# OBJECTIF 2 : évaluer l'intérêt de l'ENERGY STAR SCORE pour la prédiction de ces valeurs"
   ]
  },
  {
   "cell_type": "code",
   "execution_count": 2,
   "metadata": {},
   "outputs": [],
   "source": [
    "import pandas as pd\n",
    "import numpy as np\n",
    "import ast\n",
    "import datetime\n",
    "\n",
    "import seaborn as sns\n",
    "import matplotlib.pyplot as plt\n",
    "\n",
    "import statsmodels.formula.api as smf\n",
    "import statsmodels.api as sm\n",
    "\n",
    "from sklearn import preprocessing, metrics\n",
    "from sklearn.model_selection import train_test_split, GridSearchCV\n",
    "from sklearn.linear_model import LinearRegression, Ridge, Lasso, RidgeCV, LassoCV\n",
    "from sklearn.kernel_ridge import KernelRidge\n",
    "from sklearn.neural_network import MLPRegressor"
   ]
  },
  {
   "cell_type": "code",
   "execution_count": 3,
   "metadata": {},
   "outputs": [],
   "source": [
    "#On charge les données de consommation de 2015 et 2016\n",
    "data_2015 = pd.read_csv(\"data energie/2015-building-energy-benchmarking.csv\")\n",
    "data_2016 = pd.read_csv(\"data energie/2016-building-energy-benchmarking.csv\")"
   ]
  },
  {
   "cell_type": "code",
   "execution_count": 4,
   "metadata": {},
   "outputs": [
    {
     "data": {
      "text/plain": [
       "Index(['Location', 'OtherFuelUse(kBtu)', 'GHGEmissions(MetricTonsCO2e)',\n",
       "       'GHGEmissionsIntensity(kgCO2e/ft2)', 'Comment', '2010 Census Tracts',\n",
       "       'Seattle Police Department Micro Community Policing Plan Areas',\n",
       "       'City Council Districts', 'SPD Beats', 'Zip Codes'],\n",
       "      dtype='object')"
      ]
     },
     "execution_count": 4,
     "metadata": {},
     "output_type": "execute_result"
    }
   ],
   "source": [
    "#Liste des colonnes présente seulement dans le dataframe 2015 \n",
    "data_2015.columns[~ data_2015.columns.isin(data_2016.columns)]"
   ]
  },
  {
   "cell_type": "code",
   "execution_count": 5,
   "metadata": {},
   "outputs": [
    {
     "data": {
      "text/plain": [
       "Index(['Address', 'City', 'State', 'ZipCode', 'Latitude', 'Longitude',\n",
       "       'Comments', 'TotalGHGEmissions', 'GHGEmissionsIntensity'],\n",
       "      dtype='object')"
      ]
     },
     "execution_count": 5,
     "metadata": {},
     "output_type": "execute_result"
    }
   ],
   "source": [
    "#Liste des colonnes présente seulement dans le dataframe 2016\n",
    "data_2016.columns[~ data_2016.columns.isin(data_2015.columns)]"
   ]
  },
  {
   "cell_type": "code",
   "execution_count": 6,
   "metadata": {},
   "outputs": [
    {
     "name": "stdout",
     "output_type": "stream",
     "text": [
      "Taille du dataframe 2015 :  (3340, 47)\n",
      "Taille du dataframe 2016 :  (3376, 46)\n"
     ]
    }
   ],
   "source": [
    "#On compare les tailles des dataframes\n",
    "print(\"Taille du dataframe 2015 : \", data_2015.shape)\n",
    "print(\"Taille du dataframe 2016 : \", data_2016.shape)"
   ]
  },
  {
   "cell_type": "code",
   "execution_count": 7,
   "metadata": {},
   "outputs": [
    {
     "name": "stdout",
     "output_type": "stream",
     "text": [
      "Nombre de doublons entre 2015 et 2016 :  3284\n"
     ]
    }
   ],
   "source": [
    "#On regarde le nombre de doublons\n",
    "doublons = data_2015[data_2015['OSEBuildingID'].isin(data_2016['OSEBuildingID'].unique())].shape[0]\n",
    "print(\"Nombre de doublons entre 2015 et 2016 : \", doublons)"
   ]
  },
  {
   "cell_type": "code",
   "execution_count": 8,
   "metadata": {},
   "outputs": [
    {
     "data": {
      "text/html": [
       "<div>\n",
       "<style scoped>\n",
       "    .dataframe tbody tr th:only-of-type {\n",
       "        vertical-align: middle;\n",
       "    }\n",
       "\n",
       "    .dataframe tbody tr th {\n",
       "        vertical-align: top;\n",
       "    }\n",
       "\n",
       "    .dataframe thead th {\n",
       "        text-align: right;\n",
       "    }\n",
       "</style>\n",
       "<table border=\"1\" class=\"dataframe\">\n",
       "  <thead>\n",
       "    <tr style=\"text-align: right;\">\n",
       "      <th></th>\n",
       "      <th>OSEBuildingID</th>\n",
       "      <th>DataYear</th>\n",
       "      <th>BuildingType</th>\n",
       "      <th>PrimaryPropertyType</th>\n",
       "      <th>PropertyName</th>\n",
       "      <th>TaxParcelIdentificationNumber</th>\n",
       "      <th>Location</th>\n",
       "      <th>CouncilDistrictCode</th>\n",
       "      <th>Neighborhood</th>\n",
       "      <th>YearBuilt</th>\n",
       "      <th>...</th>\n",
       "      <th>GHGEmissionsIntensity(kgCO2e/ft2)</th>\n",
       "      <th>DefaultData</th>\n",
       "      <th>Comment</th>\n",
       "      <th>ComplianceStatus</th>\n",
       "      <th>Outlier</th>\n",
       "      <th>2010 Census Tracts</th>\n",
       "      <th>Seattle Police Department Micro Community Policing Plan Areas</th>\n",
       "      <th>City Council Districts</th>\n",
       "      <th>SPD Beats</th>\n",
       "      <th>Zip Codes</th>\n",
       "    </tr>\n",
       "  </thead>\n",
       "  <tbody>\n",
       "    <tr>\n",
       "      <th>0</th>\n",
       "      <td>1</td>\n",
       "      <td>2015</td>\n",
       "      <td>NonResidential</td>\n",
       "      <td>Hotel</td>\n",
       "      <td>MAYFLOWER PARK HOTEL</td>\n",
       "      <td>659000030</td>\n",
       "      <td>{'latitude': '47.61219025', 'longitude': '-122...</td>\n",
       "      <td>7</td>\n",
       "      <td>DOWNTOWN</td>\n",
       "      <td>1927</td>\n",
       "      <td>...</td>\n",
       "      <td>2.64</td>\n",
       "      <td>No</td>\n",
       "      <td>NaN</td>\n",
       "      <td>Compliant</td>\n",
       "      <td>NaN</td>\n",
       "      <td>NaN</td>\n",
       "      <td>14.0</td>\n",
       "      <td>NaN</td>\n",
       "      <td>31.0</td>\n",
       "      <td>18081</td>\n",
       "    </tr>\n",
       "    <tr>\n",
       "      <th>1</th>\n",
       "      <td>2</td>\n",
       "      <td>2015</td>\n",
       "      <td>NonResidential</td>\n",
       "      <td>Hotel</td>\n",
       "      <td>PARAMOUNT HOTEL</td>\n",
       "      <td>659000220</td>\n",
       "      <td>{'latitude': '47.61310583', 'longitude': '-122...</td>\n",
       "      <td>7</td>\n",
       "      <td>DOWNTOWN</td>\n",
       "      <td>1996</td>\n",
       "      <td>...</td>\n",
       "      <td>2.38</td>\n",
       "      <td>No</td>\n",
       "      <td>NaN</td>\n",
       "      <td>Compliant</td>\n",
       "      <td>NaN</td>\n",
       "      <td>NaN</td>\n",
       "      <td>14.0</td>\n",
       "      <td>NaN</td>\n",
       "      <td>31.0</td>\n",
       "      <td>18081</td>\n",
       "    </tr>\n",
       "    <tr>\n",
       "      <th>2</th>\n",
       "      <td>3</td>\n",
       "      <td>2015</td>\n",
       "      <td>NonResidential</td>\n",
       "      <td>Hotel</td>\n",
       "      <td>WESTIN HOTEL</td>\n",
       "      <td>659000475</td>\n",
       "      <td>{'latitude': '47.61334897', 'longitude': '-122...</td>\n",
       "      <td>7</td>\n",
       "      <td>DOWNTOWN</td>\n",
       "      <td>1969</td>\n",
       "      <td>...</td>\n",
       "      <td>1.92</td>\n",
       "      <td>Yes</td>\n",
       "      <td>NaN</td>\n",
       "      <td>Compliant</td>\n",
       "      <td>NaN</td>\n",
       "      <td>NaN</td>\n",
       "      <td>56.0</td>\n",
       "      <td>NaN</td>\n",
       "      <td>31.0</td>\n",
       "      <td>18081</td>\n",
       "    </tr>\n",
       "    <tr>\n",
       "      <th>3</th>\n",
       "      <td>5</td>\n",
       "      <td>2015</td>\n",
       "      <td>NonResidential</td>\n",
       "      <td>Hotel</td>\n",
       "      <td>HOTEL MAX</td>\n",
       "      <td>659000640</td>\n",
       "      <td>{'latitude': '47.61421585', 'longitude': '-122...</td>\n",
       "      <td>7</td>\n",
       "      <td>DOWNTOWN</td>\n",
       "      <td>1926</td>\n",
       "      <td>...</td>\n",
       "      <td>31.38</td>\n",
       "      <td>No</td>\n",
       "      <td>NaN</td>\n",
       "      <td>Compliant</td>\n",
       "      <td>High Outlier</td>\n",
       "      <td>NaN</td>\n",
       "      <td>56.0</td>\n",
       "      <td>NaN</td>\n",
       "      <td>31.0</td>\n",
       "      <td>18081</td>\n",
       "    </tr>\n",
       "    <tr>\n",
       "      <th>4</th>\n",
       "      <td>8</td>\n",
       "      <td>2015</td>\n",
       "      <td>NonResidential</td>\n",
       "      <td>Hotel</td>\n",
       "      <td>WARWICK SEATTLE HOTEL</td>\n",
       "      <td>659000970</td>\n",
       "      <td>{'latitude': '47.6137544', 'longitude': '-122....</td>\n",
       "      <td>7</td>\n",
       "      <td>DOWNTOWN</td>\n",
       "      <td>1980</td>\n",
       "      <td>...</td>\n",
       "      <td>4.02</td>\n",
       "      <td>No</td>\n",
       "      <td>NaN</td>\n",
       "      <td>Compliant</td>\n",
       "      <td>NaN</td>\n",
       "      <td>NaN</td>\n",
       "      <td>56.0</td>\n",
       "      <td>NaN</td>\n",
       "      <td>31.0</td>\n",
       "      <td>19576</td>\n",
       "    </tr>\n",
       "  </tbody>\n",
       "</table>\n",
       "<p>5 rows × 47 columns</p>\n",
       "</div>"
      ],
      "text/plain": [
       "   OSEBuildingID  DataYear    BuildingType PrimaryPropertyType  \\\n",
       "0              1      2015  NonResidential               Hotel   \n",
       "1              2      2015  NonResidential               Hotel   \n",
       "2              3      2015  NonResidential               Hotel   \n",
       "3              5      2015  NonResidential               Hotel   \n",
       "4              8      2015  NonResidential               Hotel   \n",
       "\n",
       "            PropertyName TaxParcelIdentificationNumber  \\\n",
       "0   MAYFLOWER PARK HOTEL                     659000030   \n",
       "1        PARAMOUNT HOTEL                     659000220   \n",
       "2           WESTIN HOTEL                     659000475   \n",
       "3              HOTEL MAX                     659000640   \n",
       "4  WARWICK SEATTLE HOTEL                     659000970   \n",
       "\n",
       "                                            Location  CouncilDistrictCode  \\\n",
       "0  {'latitude': '47.61219025', 'longitude': '-122...                    7   \n",
       "1  {'latitude': '47.61310583', 'longitude': '-122...                    7   \n",
       "2  {'latitude': '47.61334897', 'longitude': '-122...                    7   \n",
       "3  {'latitude': '47.61421585', 'longitude': '-122...                    7   \n",
       "4  {'latitude': '47.6137544', 'longitude': '-122....                    7   \n",
       "\n",
       "  Neighborhood  YearBuilt  ...  GHGEmissionsIntensity(kgCO2e/ft2)  \\\n",
       "0     DOWNTOWN       1927  ...                               2.64   \n",
       "1     DOWNTOWN       1996  ...                               2.38   \n",
       "2     DOWNTOWN       1969  ...                               1.92   \n",
       "3     DOWNTOWN       1926  ...                              31.38   \n",
       "4     DOWNTOWN       1980  ...                               4.02   \n",
       "\n",
       "   DefaultData  Comment  ComplianceStatus       Outlier 2010 Census Tracts  \\\n",
       "0           No      NaN         Compliant           NaN                NaN   \n",
       "1           No      NaN         Compliant           NaN                NaN   \n",
       "2          Yes      NaN         Compliant           NaN                NaN   \n",
       "3           No      NaN         Compliant  High Outlier                NaN   \n",
       "4           No      NaN         Compliant           NaN                NaN   \n",
       "\n",
       "  Seattle Police Department Micro Community Policing Plan Areas  \\\n",
       "0                                               14.0              \n",
       "1                                               14.0              \n",
       "2                                               56.0              \n",
       "3                                               56.0              \n",
       "4                                               56.0              \n",
       "\n",
       "   City Council Districts SPD Beats  Zip Codes  \n",
       "0                     NaN      31.0      18081  \n",
       "1                     NaN      31.0      18081  \n",
       "2                     NaN      31.0      18081  \n",
       "3                     NaN      31.0      18081  \n",
       "4                     NaN      31.0      19576  \n",
       "\n",
       "[5 rows x 47 columns]"
      ]
     },
     "execution_count": 8,
     "metadata": {},
     "output_type": "execute_result"
    }
   ],
   "source": [
    "#On observe la structure\n",
    "data_2015.head()"
   ]
  },
  {
   "cell_type": "code",
   "execution_count": 9,
   "metadata": {},
   "outputs": [],
   "source": [
    "#On sépare la colonne location pour que le format soit similaire au dataframe de 2016\n",
    "lat = []\n",
    "lon = []\n",
    "address = []\n",
    "city = []\n",
    "state = []\n",
    "ZIP = []\n",
    "\n",
    "#Pour chaque ligne, on sépare la latitude, la longitude, l'adresse, la ville, l'état et la code ZIP\n",
    "for idx, row in data_2015.iterrows():\n",
    "    data_dict = ast.literal_eval(row['Location'])\n",
    "    lat.append(data_dict['latitude'])\n",
    "    lon.append(data_dict['longitude'])\n",
    "    human_adress = ast.literal_eval(data_dict['human_address'])\n",
    "    address.append(human_adress['address'])\n",
    "    city.append(human_adress['city'])\n",
    "    state.append(human_adress['state'])\n",
    "    ZIP.append(human_adress['zip'])\n",
    "\n",
    "#On supprime la colonne Location et on en créé une par variable\n",
    "data_2015.drop(columns=\"Location\", inplace=True)\n",
    "data_2015[\"Latitude\"] = lat\n",
    "data_2015[\"Longitude\"] = lon\n",
    "data_2015[\"Address\"] = address\n",
    "data_2015[\"City\"] = city\n",
    "data_2015[\"State\"] = state\n",
    "data_2015[\"ZipCode\"] = ZIP"
   ]
  },
  {
   "cell_type": "code",
   "execution_count": 10,
   "metadata": {},
   "outputs": [
    {
     "data": {
      "text/plain": [
       "Index(['OtherFuelUse(kBtu)', 'GHGEmissions(MetricTonsCO2e)',\n",
       "       'GHGEmissionsIntensity(kgCO2e/ft2)', 'Comment', '2010 Census Tracts',\n",
       "       'Seattle Police Department Micro Community Policing Plan Areas',\n",
       "       'City Council Districts', 'SPD Beats', 'Zip Codes'],\n",
       "      dtype='object')"
      ]
     },
     "execution_count": 10,
     "metadata": {},
     "output_type": "execute_result"
    }
   ],
   "source": [
    "#Liste des colonnes présente seulement dans le dataframe 2015 \n",
    "data_2015.columns[~ data_2015.columns.isin(data_2016.columns)]"
   ]
  },
  {
   "cell_type": "code",
   "execution_count": 11,
   "metadata": {},
   "outputs": [
    {
     "data": {
      "text/plain": [
       "Index(['Comments', 'TotalGHGEmissions', 'GHGEmissionsIntensity'], dtype='object')"
      ]
     },
     "execution_count": 11,
     "metadata": {},
     "output_type": "execute_result"
    }
   ],
   "source": [
    "#Liste des colonnes présente seulement dans le dataframe 2016\n",
    "data_2016.columns[~ data_2016.columns.isin(data_2015.columns)]"
   ]
  },
  {
   "cell_type": "code",
   "execution_count": 12,
   "metadata": {},
   "outputs": [],
   "source": [
    "#On renomme le noms des colonnes pour pouvoir faire une concatenation\n",
    "data_2015.rename(columns={\"GHGEmissionsIntensity(kgCO2e/ft2)\": \"GHGEmissionsIntensity\"\n",
    "                           ,\"GHGEmissions(MetricTonsCO2e)\": \"TotalGHGEmissions\"}, inplace=True)"
   ]
  },
  {
   "cell_type": "code",
   "execution_count": 13,
   "metadata": {},
   "outputs": [],
   "source": [
    "#On supprime les colonnes que nous n'utiliserons pas pour la concatenation\n",
    "data_2015.drop(columns=['Comment', '2010 Census Tracts'\n",
    "                        ,'Seattle Police Department Micro Community Policing Plan Areas','City Council Districts'\n",
    "                        , 'SPD Beats', 'Zip Codes'], inplace=True)\n",
    "data_2016.drop(columns=['Comments'], inplace=True)"
   ]
  },
  {
   "cell_type": "code",
   "execution_count": 14,
   "metadata": {},
   "outputs": [
    {
     "data": {
      "text/plain": [
       "(6716, 46)"
      ]
     },
     "execution_count": 14,
     "metadata": {},
     "output_type": "execute_result"
    }
   ],
   "source": [
    "#On concatène les deux dataframes\n",
    "data = pd.concat([data_2015, data_2016])\n",
    "data.shape"
   ]
  },
  {
   "cell_type": "code",
   "execution_count": 15,
   "metadata": {},
   "outputs": [],
   "source": [
    "#On supprime les doublons en gardant les valeurs les plus récentes\n",
    "data = data.drop_duplicates(subset=['OSEBuildingID'], keep = 'last').sort_values(by='OSEBuildingID')\n",
    "\n",
    "#On reinitialise les index\n",
    "data = data.reset_index(drop=True)\n",
    "\n",
    "#On change le type des colonnes Latitude et Longitude\n",
    "data[['Latitude','Longitude','ZipCode']] = data[['Latitude','Longitude','ZipCode']].astype('float64')\n",
    "data['CouncilDistrictCode'] = data['CouncilDistrictCode'].astype('object')\n",
    "\n",
    "#On change le nom de certaines colonnes\n",
    "data = data.rename(columns={'SiteEnergyUse(kBtu)': 'SiteEnergyUse'})"
   ]
  },
  {
   "cell_type": "code",
   "execution_count": 16,
   "metadata": {},
   "outputs": [],
   "source": [
    "#On garde seulement les bâtiments non destinés à l’habitation\n",
    "data = data[data['BuildingType'].isin(['NonResidential', 'Nonresidential COS','SPS-District K-12','Campus'])]"
   ]
  },
  {
   "cell_type": "code",
   "execution_count": 17,
   "metadata": {},
   "outputs": [
    {
     "data": {
      "text/plain": [
       "2016    1667\n",
       "2015      30\n",
       "Name: DataYear, dtype: int64"
      ]
     },
     "execution_count": 17,
     "metadata": {},
     "output_type": "execute_result"
    }
   ],
   "source": [
    "#La plupart de nos valeurs datent de 2016 car on a gardé les plus récentes\n",
    "data['DataYear'].value_counts()"
   ]
  },
  {
   "cell_type": "code",
   "execution_count": 18,
   "metadata": {},
   "outputs": [
    {
     "data": {
      "text/plain": [
       "OSEBuildingID                        int64\n",
       "DataYear                             int64\n",
       "BuildingType                        object\n",
       "PrimaryPropertyType                 object\n",
       "PropertyName                        object\n",
       "TaxParcelIdentificationNumber       object\n",
       "CouncilDistrictCode                 object\n",
       "Neighborhood                        object\n",
       "YearBuilt                            int64\n",
       "NumberofBuildings                  float64\n",
       "NumberofFloors                     float64\n",
       "PropertyGFATotal                     int64\n",
       "PropertyGFAParking                   int64\n",
       "PropertyGFABuilding(s)               int64\n",
       "ListOfAllPropertyUseTypes           object\n",
       "LargestPropertyUseType              object\n",
       "LargestPropertyUseTypeGFA          float64\n",
       "SecondLargestPropertyUseType        object\n",
       "SecondLargestPropertyUseTypeGFA    float64\n",
       "ThirdLargestPropertyUseType         object\n",
       "ThirdLargestPropertyUseTypeGFA     float64\n",
       "YearsENERGYSTARCertified            object\n",
       "ENERGYSTARScore                    float64\n",
       "SiteEUI(kBtu/sf)                   float64\n",
       "SiteEUIWN(kBtu/sf)                 float64\n",
       "SourceEUI(kBtu/sf)                 float64\n",
       "SourceEUIWN(kBtu/sf)               float64\n",
       "SiteEnergyUse                      float64\n",
       "SiteEnergyUseWN(kBtu)              float64\n",
       "SteamUse(kBtu)                     float64\n",
       "Electricity(kWh)                   float64\n",
       "Electricity(kBtu)                  float64\n",
       "NaturalGas(therms)                 float64\n",
       "NaturalGas(kBtu)                   float64\n",
       "OtherFuelUse(kBtu)                 float64\n",
       "TotalGHGEmissions                  float64\n",
       "GHGEmissionsIntensity              float64\n",
       "DefaultData                         object\n",
       "ComplianceStatus                    object\n",
       "Outlier                             object\n",
       "Latitude                           float64\n",
       "Longitude                          float64\n",
       "Address                             object\n",
       "City                                object\n",
       "State                               object\n",
       "ZipCode                            float64\n",
       "dtype: object"
      ]
     },
     "execution_count": 18,
     "metadata": {},
     "output_type": "execute_result"
    }
   ],
   "source": [
    "data.dtypes"
   ]
  },
  {
   "cell_type": "code",
   "execution_count": 19,
   "metadata": {},
   "outputs": [
    {
     "data": {
      "text/html": [
       "<div>\n",
       "<style scoped>\n",
       "    .dataframe tbody tr th:only-of-type {\n",
       "        vertical-align: middle;\n",
       "    }\n",
       "\n",
       "    .dataframe tbody tr th {\n",
       "        vertical-align: top;\n",
       "    }\n",
       "\n",
       "    .dataframe thead th {\n",
       "        text-align: right;\n",
       "    }\n",
       "</style>\n",
       "<table border=\"1\" class=\"dataframe\">\n",
       "  <thead>\n",
       "    <tr style=\"text-align: right;\">\n",
       "      <th></th>\n",
       "      <th>OSEBuildingID</th>\n",
       "      <th>DataYear</th>\n",
       "      <th>BuildingType</th>\n",
       "      <th>PrimaryPropertyType</th>\n",
       "      <th>PropertyName</th>\n",
       "      <th>TaxParcelIdentificationNumber</th>\n",
       "      <th>CouncilDistrictCode</th>\n",
       "      <th>Neighborhood</th>\n",
       "      <th>YearBuilt</th>\n",
       "      <th>NumberofBuildings</th>\n",
       "      <th>...</th>\n",
       "      <th>GHGEmissionsIntensity</th>\n",
       "      <th>DefaultData</th>\n",
       "      <th>ComplianceStatus</th>\n",
       "      <th>Outlier</th>\n",
       "      <th>Latitude</th>\n",
       "      <th>Longitude</th>\n",
       "      <th>Address</th>\n",
       "      <th>City</th>\n",
       "      <th>State</th>\n",
       "      <th>ZipCode</th>\n",
       "    </tr>\n",
       "  </thead>\n",
       "  <tbody>\n",
       "    <tr>\n",
       "      <th>0</th>\n",
       "      <td>1</td>\n",
       "      <td>2016</td>\n",
       "      <td>NonResidential</td>\n",
       "      <td>Hotel</td>\n",
       "      <td>Mayflower park hotel</td>\n",
       "      <td>0659000030</td>\n",
       "      <td>7</td>\n",
       "      <td>DOWNTOWN</td>\n",
       "      <td>1927</td>\n",
       "      <td>1.0</td>\n",
       "      <td>...</td>\n",
       "      <td>2.83</td>\n",
       "      <td>False</td>\n",
       "      <td>Compliant</td>\n",
       "      <td>NaN</td>\n",
       "      <td>47.61220</td>\n",
       "      <td>-122.33799</td>\n",
       "      <td>405 Olive way</td>\n",
       "      <td>Seattle</td>\n",
       "      <td>WA</td>\n",
       "      <td>98101.0</td>\n",
       "    </tr>\n",
       "    <tr>\n",
       "      <th>1</th>\n",
       "      <td>2</td>\n",
       "      <td>2016</td>\n",
       "      <td>NonResidential</td>\n",
       "      <td>Hotel</td>\n",
       "      <td>Paramount Hotel</td>\n",
       "      <td>0659000220</td>\n",
       "      <td>7</td>\n",
       "      <td>DOWNTOWN</td>\n",
       "      <td>1996</td>\n",
       "      <td>1.0</td>\n",
       "      <td>...</td>\n",
       "      <td>2.86</td>\n",
       "      <td>False</td>\n",
       "      <td>Compliant</td>\n",
       "      <td>NaN</td>\n",
       "      <td>47.61317</td>\n",
       "      <td>-122.33393</td>\n",
       "      <td>724 Pine street</td>\n",
       "      <td>Seattle</td>\n",
       "      <td>WA</td>\n",
       "      <td>98101.0</td>\n",
       "    </tr>\n",
       "    <tr>\n",
       "      <th>2</th>\n",
       "      <td>3</td>\n",
       "      <td>2016</td>\n",
       "      <td>NonResidential</td>\n",
       "      <td>Hotel</td>\n",
       "      <td>5673-The Westin Seattle</td>\n",
       "      <td>0659000475</td>\n",
       "      <td>7</td>\n",
       "      <td>DOWNTOWN</td>\n",
       "      <td>1969</td>\n",
       "      <td>1.0</td>\n",
       "      <td>...</td>\n",
       "      <td>2.19</td>\n",
       "      <td>False</td>\n",
       "      <td>Compliant</td>\n",
       "      <td>NaN</td>\n",
       "      <td>47.61393</td>\n",
       "      <td>-122.33810</td>\n",
       "      <td>1900 5th Avenue</td>\n",
       "      <td>Seattle</td>\n",
       "      <td>WA</td>\n",
       "      <td>98101.0</td>\n",
       "    </tr>\n",
       "    <tr>\n",
       "      <th>3</th>\n",
       "      <td>5</td>\n",
       "      <td>2016</td>\n",
       "      <td>NonResidential</td>\n",
       "      <td>Hotel</td>\n",
       "      <td>HOTEL MAX</td>\n",
       "      <td>0659000640</td>\n",
       "      <td>7</td>\n",
       "      <td>DOWNTOWN</td>\n",
       "      <td>1926</td>\n",
       "      <td>1.0</td>\n",
       "      <td>...</td>\n",
       "      <td>4.67</td>\n",
       "      <td>False</td>\n",
       "      <td>Compliant</td>\n",
       "      <td>NaN</td>\n",
       "      <td>47.61412</td>\n",
       "      <td>-122.33664</td>\n",
       "      <td>620 STEWART ST</td>\n",
       "      <td>Seattle</td>\n",
       "      <td>WA</td>\n",
       "      <td>98101.0</td>\n",
       "    </tr>\n",
       "    <tr>\n",
       "      <th>4</th>\n",
       "      <td>8</td>\n",
       "      <td>2016</td>\n",
       "      <td>NonResidential</td>\n",
       "      <td>Hotel</td>\n",
       "      <td>WARWICK SEATTLE HOTEL (ID8)</td>\n",
       "      <td>0659000970</td>\n",
       "      <td>7</td>\n",
       "      <td>DOWNTOWN</td>\n",
       "      <td>1980</td>\n",
       "      <td>1.0</td>\n",
       "      <td>...</td>\n",
       "      <td>2.88</td>\n",
       "      <td>False</td>\n",
       "      <td>Compliant</td>\n",
       "      <td>NaN</td>\n",
       "      <td>47.61375</td>\n",
       "      <td>-122.34047</td>\n",
       "      <td>401 LENORA ST</td>\n",
       "      <td>Seattle</td>\n",
       "      <td>WA</td>\n",
       "      <td>98121.0</td>\n",
       "    </tr>\n",
       "  </tbody>\n",
       "</table>\n",
       "<p>5 rows × 46 columns</p>\n",
       "</div>"
      ],
      "text/plain": [
       "   OSEBuildingID  DataYear    BuildingType PrimaryPropertyType  \\\n",
       "0              1      2016  NonResidential               Hotel   \n",
       "1              2      2016  NonResidential               Hotel   \n",
       "2              3      2016  NonResidential               Hotel   \n",
       "3              5      2016  NonResidential               Hotel   \n",
       "4              8      2016  NonResidential               Hotel   \n",
       "\n",
       "                  PropertyName TaxParcelIdentificationNumber  \\\n",
       "0         Mayflower park hotel                    0659000030   \n",
       "1              Paramount Hotel                    0659000220   \n",
       "2      5673-The Westin Seattle                    0659000475   \n",
       "3                    HOTEL MAX                    0659000640   \n",
       "4  WARWICK SEATTLE HOTEL (ID8)                    0659000970   \n",
       "\n",
       "  CouncilDistrictCode Neighborhood  YearBuilt  NumberofBuildings  ...  \\\n",
       "0                   7     DOWNTOWN       1927                1.0  ...   \n",
       "1                   7     DOWNTOWN       1996                1.0  ...   \n",
       "2                   7     DOWNTOWN       1969                1.0  ...   \n",
       "3                   7     DOWNTOWN       1926                1.0  ...   \n",
       "4                   7     DOWNTOWN       1980                1.0  ...   \n",
       "\n",
       "   GHGEmissionsIntensity  DefaultData  ComplianceStatus  Outlier  Latitude  \\\n",
       "0                   2.83        False         Compliant      NaN  47.61220   \n",
       "1                   2.86        False         Compliant      NaN  47.61317   \n",
       "2                   2.19        False         Compliant      NaN  47.61393   \n",
       "3                   4.67        False         Compliant      NaN  47.61412   \n",
       "4                   2.88        False         Compliant      NaN  47.61375   \n",
       "\n",
       "   Longitude          Address     City  State  ZipCode  \n",
       "0 -122.33799    405 Olive way  Seattle     WA  98101.0  \n",
       "1 -122.33393  724 Pine street  Seattle     WA  98101.0  \n",
       "2 -122.33810  1900 5th Avenue  Seattle     WA  98101.0  \n",
       "3 -122.33664   620 STEWART ST  Seattle     WA  98101.0  \n",
       "4 -122.34047    401 LENORA ST  Seattle     WA  98121.0  \n",
       "\n",
       "[5 rows x 46 columns]"
      ]
     },
     "execution_count": 19,
     "metadata": {},
     "output_type": "execute_result"
    }
   ],
   "source": [
    "data.head()"
   ]
  },
  {
   "cell_type": "markdown",
   "metadata": {},
   "source": [
    "\n",
    "# Données générales\n",
    "<br/> **OSEBuildingID** : ID unique\n",
    "<br/> **DataYear** : Année de mesure des données\n",
    "<br/> **'TaxParcelIdentificationNumber** :ID taxe\n",
    "\n",
    "# Données déclaratives\n",
    "<br/> **BuildingType** : Residential / Non residential\n",
    "<br/> **PrimaryPropertyType** : Principale type de la propriété : College / Laboratory / ... / Other\n",
    "<br/> **'PropertyName!** : Nom de la propriété\n",
    "<br/> **YearBuilt** : de 1900 à 2015\n",
    "<br/> **NumberofBuildings** : Nombre de batiments (de 1 à 39)\n",
    "<br/> **NumberofFloors** : Nombre de batiments (de 1 à 99)\n",
    "<br/> **PropertyGFATotal** : Somme des surfaces de chaque niveau, des surfaces des toitures-terrasses, des balcons et des surfaces non closes situées au rez-de-chaussée, y compris l’épaisseur des murs et des cloisons.\n",
    "<br/> **PropertyGFAParking** : Somme des surfaces du parking\n",
    "<br/> **PropertyGFABuilding(s)** : Somme des surfaces du/des batiment(s)\n",
    "\n",
    "\n",
    "# Données géographiques\n",
    "<br/> **CouncilDistrictCode** : District de 1 à 7\n",
    "<br/> **Neighborhood** : Nom du quartier Ballard / Central\n",
    "<br/> **Latitude** : Latitude\n",
    "<br/> **Longitude** : Longitude\n",
    "<br/> **Address** : Adresse\n",
    "<br/> **City** : Ville\n",
    "<br/> **State** : Etat du batiment\n",
    "<br/> **ZipCode** : Code postal\n",
    "\n",
    "\n",
    "## Données des relevés de consommation (fuite de données)\n",
    "<br/> **YearsENERGYSTARCertified** : Années d'obtention de la certification ENERGY STAR\n",
    "<br/> **ENERGYSTARScore** : Performance energetique du batiment (score entre 1 et 100)\n",
    "<br/> **SiteEUI(kBtu/sf)** : Intensité d'utilisation de l'énergie de la propriété (kBtu/sf est un équivalent du KwH/m²)\n",
    "<br/> **SiteEUIWN(kBtu/sf)** : similaire à siteEUI(kBtu/sf)\n",
    "<br/> **SourceEUI(kBtu/sf)** : Intensité d'utilisation de l'énergie de la propriété depuis la source : production\n",
    "transmission + perte (kBtu/sf est un équivalent du KwH/m²)\n",
    "<br/> **SourceEUIWN(kBtu/sf)** : similaire à sourceEUI(kBtu/sf)\n",
    "<br/> **SteamUse(kBtu)** : à creuser\n",
    "<br/> **Electricity(kBtu)** : Consommation electricité en kBtu\n",
    "<br/> **NaturalGas(kBtu)** : Consommation de gaz en kBtu\n",
    "<br/> **OtherFuelUse(kBtu)** : Consommation des autres combustibles en kBtu\n",
    "\n",
    "\n",
    "## Données cible\n",
    "<br/> **SiteEnergyUse(kBtu)** : Consommation de la propriété en kBtu (KwH)\n",
    "<br/> **SiteEnergyUseWN(kBtu)** : similaire à SiteEnergyUse(kBtu)\n",
    "<br/> **GHGEmissionsIntensity(kgCO2e/ft2)** : Intensité d'émission des gazs à effet de serre (en kG de CO2 par foot au carré)\n",
    "<br/> **GHGEmissions(MetricTonsCO2e)** : Emission des gazs à effet de serre (en tonnes de CO2)"
   ]
  },
  {
   "cell_type": "code",
   "execution_count": 20,
   "metadata": {},
   "outputs": [],
   "source": [
    "#On souhaite créer des modèles qui se passent des données de consommation, on les retire de notre dataframe\n",
    "#On garde seulement les variables cibles 'TotalGHGEmissions','SiteEnergyUse' et 'ENERGYSTARScore'\n",
    "data_opt = data[['OSEBuildingID', 'BuildingType', 'PrimaryPropertyType','CouncilDistrictCode','Neighborhood',\n",
    "                 'Latitude', 'Longitude','YearBuilt', 'NumberofBuildings','NumberofFloors','PropertyGFATotal',\n",
    "                 'PropertyGFAParking', 'PropertyGFABuilding(s)','LargestPropertyUseTypeGFA','ENERGYSTARScore',\n",
    "                 'TotalGHGEmissions','SiteEnergyUse']]"
   ]
  },
  {
   "cell_type": "code",
   "execution_count": 21,
   "metadata": {},
   "outputs": [
    {
     "data": {
      "text/plain": [
       "OSEBuildingID                  0\n",
       "BuildingType                   0\n",
       "PrimaryPropertyType            0\n",
       "CouncilDistrictCode            0\n",
       "Neighborhood                   0\n",
       "Latitude                       0\n",
       "Longitude                      0\n",
       "YearBuilt                      0\n",
       "NumberofBuildings              2\n",
       "NumberofFloors                 0\n",
       "PropertyGFATotal               0\n",
       "PropertyGFAParking             0\n",
       "PropertyGFABuilding(s)         0\n",
       "LargestPropertyUseTypeGFA     12\n",
       "ENERGYSTARScore              585\n",
       "TotalGHGEmissions              3\n",
       "SiteEnergyUse                  3\n",
       "dtype: int64"
      ]
     },
     "execution_count": 21,
     "metadata": {},
     "output_type": "execute_result"
    }
   ],
   "source": [
    "#On liste les valeurs nulles par colonnes\n",
    "data_opt.isnull().sum()"
   ]
  },
  {
   "cell_type": "code",
   "execution_count": 22,
   "metadata": {},
   "outputs": [],
   "source": [
    "#On supprime les lignes ayant des valeurs nulles\n",
    "data_opt = data_opt.dropna()"
   ]
  },
  {
   "cell_type": "code",
   "execution_count": 23,
   "metadata": {},
   "outputs": [
    {
     "data": {
      "text/plain": [
       "OSEBuildingID                1107\n",
       "BuildingType                 1107\n",
       "PrimaryPropertyType          1107\n",
       "CouncilDistrictCode          1107\n",
       "Neighborhood                 1107\n",
       "Latitude                     1107\n",
       "Longitude                    1107\n",
       "YearBuilt                    1107\n",
       "NumberofBuildings            1107\n",
       "NumberofFloors               1107\n",
       "PropertyGFATotal             1107\n",
       "PropertyGFAParking           1107\n",
       "PropertyGFABuilding(s)       1107\n",
       "LargestPropertyUseTypeGFA    1107\n",
       "ENERGYSTARScore              1107\n",
       "TotalGHGEmissions            1107\n",
       "SiteEnergyUse                1107\n",
       "dtype: int64"
      ]
     },
     "execution_count": 23,
     "metadata": {},
     "output_type": "execute_result"
    }
   ],
   "source": [
    "#Notre dataframe est maintenant prêt à être analysé \n",
    "data_opt.notnull().sum()"
   ]
  },
  {
   "cell_type": "code",
   "execution_count": 24,
   "metadata": {},
   "outputs": [],
   "source": [
    "#On créé le dataframe qu'on va utiliser pour notre analyse exploratoire\n",
    "data_exploration = data_opt.copy()"
   ]
  },
  {
   "cell_type": "code",
   "execution_count": 25,
   "metadata": {},
   "outputs": [],
   "source": [
    "#On enlève les valeurs aberrantes \n",
    "Q1 = data_exploration[['PropertyGFATotal']].quantile(0.25)[0]\n",
    "Q3 = data_exploration[['PropertyGFATotal']].quantile(0.75)[0]\n",
    "IQR = Q3 - Q1\n",
    "data_exploration = data_exploration[data_exploration['PropertyGFATotal'] < Q3 + IQR * 1.5]"
   ]
  },
  {
   "cell_type": "code",
   "execution_count": 26,
   "metadata": {},
   "outputs": [],
   "source": [
    "#On enlève les valeurs aberrantes \n",
    "Q1 = data_exploration[['NumberofFloors']].quantile(0.25)[0]\n",
    "Q3 = data_exploration[['NumberofFloors']].quantile(0.75)[0]\n",
    "IQR = Q3 - Q1\n",
    "data_exploration = data_exploration[data_exploration['NumberofFloors'] < Q3 + IQR * 1.5]"
   ]
  },
  {
   "cell_type": "code",
   "execution_count": 27,
   "metadata": {},
   "outputs": [],
   "source": [
    "#On enlève les valeurs aberrantes \n",
    "Q1 = data_exploration[['LargestPropertyUseTypeGFA']].quantile(0.25)[0]\n",
    "Q3 = data_exploration[['LargestPropertyUseTypeGFA']].quantile(0.75)[0]\n",
    "IQR = Q3 - Q1\n",
    "data_exploration = data_exploration[data_exploration['LargestPropertyUseTypeGFA'] < Q3 + IQR * 1.5]"
   ]
  },
  {
   "cell_type": "code",
   "execution_count": 28,
   "metadata": {},
   "outputs": [],
   "source": [
    "#On enlève les valeurs aberrantes \n",
    "Q1 = data_exploration[['TotalGHGEmissions']].quantile(0.25)[0]\n",
    "Q3 = data_exploration[['TotalGHGEmissions']].quantile(0.75)[0]\n",
    "IQR = Q3 - Q1\n",
    "data_exploration = data_exploration[data_exploration['TotalGHGEmissions'] < Q3 + IQR * 1.5]"
   ]
  },
  {
   "cell_type": "code",
   "execution_count": 29,
   "metadata": {},
   "outputs": [],
   "source": [
    "#On enlève les valeurs aberrantes \n",
    "Q1 = data_exploration[['SiteEnergyUse']].quantile(0.25)[0]\n",
    "Q3 = data_exploration[['SiteEnergyUse']].quantile(0.75)[0]\n",
    "IQR = Q3 - Q1\n",
    "data_exploration = data_exploration[data_exploration['SiteEnergyUse'] < Q3 + IQR * 1.5]"
   ]
  },
  {
   "cell_type": "markdown",
   "metadata": {},
   "source": [
    "<br/>\n",
    "<br/>\n",
    "\n",
    "# Analyse variable qualitative (ANOVA)"
   ]
  },
  {
   "cell_type": "code",
   "execution_count": 30,
   "metadata": {},
   "outputs": [
    {
     "data": {
      "image/png": "[encoded data removed]",
      "text/plain": [
       "<Figure size 720x144 with 1 Axes>"
      ]
     },
     "metadata": {
      "needs_background": "light"
     },
     "output_type": "display_data"
    }
   ],
   "source": [
    "#On observe le nombre d'observations par catégorie\n",
    "fig, ax = plt.subplots(figsize=(10,2))\n",
    "graph = sns.countplot(y='BuildingType', ax=ax, data=data_exploration\n",
    "                     ,palette='rainbow', order = data_exploration['BuildingType'].value_counts().index)"
   ]
  },
  {
   "cell_type": "code",
   "execution_count": 31,
   "metadata": {},
   "outputs": [
    {
     "data": {
      "text/plain": [
       "Text(0.5, 1.0, 'Boxplot BuildingType')"
      ]
     },
     "execution_count": 31,
     "metadata": {},
     "output_type": "execute_result"
    },
    {
     "data": {
      "image/png": "[encoded data removed]",
      "text/plain": [
       "<Figure size 432x288 with 1 Axes>"
      ]
     },
     "metadata": {
      "needs_background": "light"
     },
     "output_type": "display_data"
    }
   ],
   "source": [
    "#On observe les boxplot par catégorie (pour la variable cible SiteEnergyUse)\n",
    "fig, ax = plt.subplots(figsize=(6,4))\n",
    "sns.boxplot(x='SiteEnergyUse',y = 'BuildingType', ax=ax, data=data_exploration, orient=\"h\"\n",
    "            ,palette='rainbow', order = data_exploration['BuildingType'].value_counts().index)\n",
    "plt.title(\"Boxplot BuildingType\")"
   ]
  },
  {
   "cell_type": "code",
   "execution_count": 32,
   "metadata": {},
   "outputs": [
    {
     "data": {
      "text/plain": [
       "Text(0.5, 1.0, 'Boxplot BuildingType')"
      ]
     },
     "execution_count": 32,
     "metadata": {},
     "output_type": "execute_result"
    },
    {
     "data": {
      "image/png": "[encoded data removed]",
      "text/plain": [
       "<Figure size 432x288 with 1 Axes>"
      ]
     },
     "metadata": {
      "needs_background": "light"
     },
     "output_type": "display_data"
    }
   ],
   "source": [
    "#On observe les boxplot par catégorie (pour la variable cible TotalGHGEmissions)\n",
    "fig, ax = plt.subplots(figsize=(6,4))\n",
    "sns.boxplot(x='TotalGHGEmissions',y = 'BuildingType', ax=ax, data=data_exploration, orient=\"h\"\n",
    "            ,palette='rainbow', order = data_exploration['BuildingType'].value_counts().index)\n",
    "plt.title(\"Boxplot BuildingType\")"
   ]
  },
  {
   "cell_type": "code",
   "execution_count": 33,
   "metadata": {},
   "outputs": [
    {
     "name": "stdout",
     "output_type": "stream",
     "text": [
      "                            OLS Regression Results                            \n",
      "==============================================================================\n",
      "Dep. Variable:          SiteEnergyUse   R-squared:                       0.003\n",
      "Model:                            OLS   Adj. R-squared:                 -0.001\n",
      "Method:                 Least Squares   F-statistic:                    0.6957\n",
      "Date:                Tue, 20 Apr 2021   Prob (F-statistic):              0.555\n",
      "Time:                        15:50:59   Log-Likelihood:                -11322.\n",
      "No. Observations:                 730   AIC:                         2.265e+04\n",
      "Df Residuals:                     726   BIC:                         2.267e+04\n",
      "Df Model:                           3                                         \n",
      "Covariance Type:            nonrobust                                         \n",
      "======================================================================================================\n",
      "                                         coef    std err          t      P>|t|      [0.025      0.975]\n",
      "------------------------------------------------------------------------------------------------------\n",
      "Intercept                           2.365e+06   7.62e+05      3.103      0.002    8.69e+05    3.86e+06\n",
      "BuildingType[T.NonResidential]     -4.047e+05   7.64e+05     -0.530      0.597    -1.9e+06     1.1e+06\n",
      "BuildingType[T.Nonresidential COS] -1.023e+06   9.11e+05     -1.123      0.262   -2.81e+06    7.66e+05\n",
      "BuildingType[T.SPS-District K-12]   -3.18e+05    7.8e+05     -0.408      0.684   -1.85e+06    1.21e+06\n",
      "==============================================================================\n",
      "Omnibus:                       91.174   Durbin-Watson:                   1.281\n",
      "Prob(Omnibus):                  0.000   Jarque-Bera (JB):              123.705\n",
      "Skew:                           0.991   Prob(JB):                     1.37e-27\n",
      "Kurtosis:                       3.376   Cond. No.                         43.1\n",
      "==============================================================================\n",
      "\n",
      "Warnings:\n",
      "[1] Standard Errors assume that the covariance matrix of the errors is correctly specified.\n"
     ]
    }
   ],
   "source": [
    "#On effectue une ANOVA sur le type de batiment (pour SiteEnergyUse)\n",
    "anova_BuildingType = smf.ols('SiteEnergyUse~BuildingType', data=data_exploration).fit()\n",
    "print(anova_BuildingType.summary())"
   ]
  },
  {
   "cell_type": "code",
   "execution_count": 34,
   "metadata": {},
   "outputs": [
    {
     "data": {
      "text/html": [
       "<div>\n",
       "<style scoped>\n",
       "    .dataframe tbody tr th:only-of-type {\n",
       "        vertical-align: middle;\n",
       "    }\n",
       "\n",
       "    .dataframe tbody tr th {\n",
       "        vertical-align: top;\n",
       "    }\n",
       "\n",
       "    .dataframe thead th {\n",
       "        text-align: right;\n",
       "    }\n",
       "</style>\n",
       "<table border=\"1\" class=\"dataframe\">\n",
       "  <thead>\n",
       "    <tr style=\"text-align: right;\">\n",
       "      <th></th>\n",
       "      <th>sum_sq</th>\n",
       "      <th>df</th>\n",
       "      <th>F</th>\n",
       "      <th>PR(&gt;F)</th>\n",
       "    </tr>\n",
       "  </thead>\n",
       "  <tbody>\n",
       "    <tr>\n",
       "      <th>BuildingType</th>\n",
       "      <td>3.639295e+12</td>\n",
       "      <td>3.0</td>\n",
       "      <td>0.695732</td>\n",
       "      <td>0.554824</td>\n",
       "    </tr>\n",
       "    <tr>\n",
       "      <th>Residual</th>\n",
       "      <td>1.265874e+15</td>\n",
       "      <td>726.0</td>\n",
       "      <td>NaN</td>\n",
       "      <td>NaN</td>\n",
       "    </tr>\n",
       "  </tbody>\n",
       "</table>\n",
       "</div>"
      ],
      "text/plain": [
       "                    sum_sq     df         F    PR(>F)\n",
       "BuildingType  3.639295e+12    3.0  0.695732  0.554824\n",
       "Residual      1.265874e+15  726.0       NaN       NaN"
      ]
     },
     "execution_count": 34,
     "metadata": {},
     "output_type": "execute_result"
    }
   ],
   "source": [
    "#Test de Fisher : on a une p-value égale à 0.55 (>5%)\n",
    "sm.stats.anova_lm(anova_BuildingType, typ=2)"
   ]
  },
  {
   "cell_type": "code",
   "execution_count": 35,
   "metadata": {},
   "outputs": [
    {
     "name": "stdout",
     "output_type": "stream",
     "text": [
      "                            OLS Regression Results                            \n",
      "==============================================================================\n",
      "Dep. Variable:      TotalGHGEmissions   R-squared:                       0.022\n",
      "Model:                            OLS   Adj. R-squared:                  0.018\n",
      "Method:                 Least Squares   F-statistic:                     5.336\n",
      "Date:                Tue, 20 Apr 2021   Prob (F-statistic):            0.00122\n",
      "Time:                        15:50:59   Log-Likelihood:                -3626.4\n",
      "No. Observations:                 730   AIC:                             7261.\n",
      "Df Residuals:                     726   BIC:                             7279.\n",
      "Df Model:                           3                                         \n",
      "Covariance Type:            nonrobust                                         \n",
      "======================================================================================================\n",
      "                                         coef    std err          t      P>|t|      [0.025      0.975]\n",
      "------------------------------------------------------------------------------------------------------\n",
      "Intercept                             83.0867     20.131      4.127      0.000      43.566     122.608\n",
      "BuildingType[T.NonResidential]       -44.9723     20.177     -2.229      0.026     -84.584      -5.361\n",
      "BuildingType[T.Nonresidential COS]   -48.0124     24.061     -1.995      0.046     -95.249      -0.776\n",
      "BuildingType[T.SPS-District K-12]    -29.6814     20.597     -1.441      0.150     -70.118      10.755\n",
      "==============================================================================\n",
      "Omnibus:                      175.846   Durbin-Watson:                   1.692\n",
      "Prob(Omnibus):                  0.000   Jarque-Bera (JB):              330.421\n",
      "Skew:                           1.415   Prob(JB):                     1.78e-72\n",
      "Kurtosis:                       4.689   Cond. No.                         43.1\n",
      "==============================================================================\n",
      "\n",
      "Warnings:\n",
      "[1] Standard Errors assume that the covariance matrix of the errors is correctly specified.\n"
     ]
    }
   ],
   "source": [
    "#On effectue une ANOVA sur le type de batiment (pour TotalGHGEmissions)\n",
    "anova_BuildingType_GHG = smf.ols('TotalGHGEmissions~BuildingType', data=data_exploration).fit()\n",
    "print(anova_BuildingType_GHG.summary())"
   ]
  },
  {
   "cell_type": "code",
   "execution_count": 36,
   "metadata": {},
   "outputs": [
    {
     "data": {
      "text/html": [
       "<div>\n",
       "<style scoped>\n",
       "    .dataframe tbody tr th:only-of-type {\n",
       "        vertical-align: middle;\n",
       "    }\n",
       "\n",
       "    .dataframe tbody tr th {\n",
       "        vertical-align: top;\n",
       "    }\n",
       "\n",
       "    .dataframe thead th {\n",
       "        text-align: right;\n",
       "    }\n",
       "</style>\n",
       "<table border=\"1\" class=\"dataframe\">\n",
       "  <thead>\n",
       "    <tr style=\"text-align: right;\">\n",
       "      <th></th>\n",
       "      <th>sum_sq</th>\n",
       "      <th>df</th>\n",
       "      <th>F</th>\n",
       "      <th>PR(&gt;F)</th>\n",
       "    </tr>\n",
       "  </thead>\n",
       "  <tbody>\n",
       "    <tr>\n",
       "      <th>BuildingType</th>\n",
       "      <td>19462.014097</td>\n",
       "      <td>3.0</td>\n",
       "      <td>5.336234</td>\n",
       "      <td>0.00122</td>\n",
       "    </tr>\n",
       "    <tr>\n",
       "      <th>Residual</th>\n",
       "      <td>882608.795950</td>\n",
       "      <td>726.0</td>\n",
       "      <td>NaN</td>\n",
       "      <td>NaN</td>\n",
       "    </tr>\n",
       "  </tbody>\n",
       "</table>\n",
       "</div>"
      ],
      "text/plain": [
       "                     sum_sq     df         F   PR(>F)\n",
       "BuildingType   19462.014097    3.0  5.336234  0.00122\n",
       "Residual      882608.795950  726.0       NaN      NaN"
      ]
     },
     "execution_count": 36,
     "metadata": {},
     "output_type": "execute_result"
    }
   ],
   "source": [
    "#Test de Fisher : on a une p-value égale à 0.0012 (<5%)\n",
    "sm.stats.anova_lm(anova_BuildingType_GHG, typ=2)"
   ]
  },
  {
   "cell_type": "code",
   "execution_count": 37,
   "metadata": {},
   "outputs": [
    {
     "data": {
      "image/png": "[encoded data removed]",
      "text/plain": [
       "<Figure size 720x576 with 1 Axes>"
      ]
     },
     "metadata": {
      "needs_background": "light"
     },
     "output_type": "display_data"
    }
   ],
   "source": [
    "#On observe le nombre d'observations par catégorie\n",
    "fig, ax = plt.subplots(figsize=(10,8))\n",
    "graph = sns.countplot(y='PrimaryPropertyType', ax=ax, data=data_exploration \n",
    "                      ,palette='rainbow', order = data_exploration['PrimaryPropertyType'].value_counts().index)"
   ]
  },
  {
   "cell_type": "code",
   "execution_count": 38,
   "metadata": {},
   "outputs": [
    {
     "data": {
      "image/png": "[encoded data removed]",
      "text/plain": [
       "<Figure size 720x576 with 1 Axes>"
      ]
     },
     "metadata": {
      "needs_background": "light"
     },
     "output_type": "display_data"
    }
   ],
   "source": [
    "#On observe SiteEnergyUse par catégorie\n",
    "fig, ax = plt.subplots(figsize=(10,8))\n",
    "graph = sns.barplot(y='PrimaryPropertyType',x='SiteEnergyUse', ax=ax, data=data_exploration\n",
    "                   ,palette='rainbow', order = data_exploration['PrimaryPropertyType'].value_counts().index)"
   ]
  },
  {
   "cell_type": "code",
   "execution_count": 39,
   "metadata": {},
   "outputs": [
    {
     "data": {
      "image/png": "[encoded data removed]",
      "text/plain": [
       "<Figure size 720x576 with 1 Axes>"
      ]
     },
     "metadata": {
      "needs_background": "light"
     },
     "output_type": "display_data"
    }
   ],
   "source": [
    "#On observe TotalGHGEmissions par catégorie\n",
    "fig, ax = plt.subplots(figsize=(10,8))\n",
    "graph = sns.barplot(y='PrimaryPropertyType',x='TotalGHGEmissions', ax=ax, data=data_exploration\n",
    "                   ,palette='rainbow', order = data_exploration['PrimaryPropertyType'].value_counts().index)"
   ]
  },
  {
   "cell_type": "code",
   "execution_count": 40,
   "metadata": {
    "scrolled": false
   },
   "outputs": [
    {
     "data": {
      "text/plain": [
       "Text(0.5, 1.0, 'Boxplot PrimaryPropertyType')"
      ]
     },
     "execution_count": 40,
     "metadata": {},
     "output_type": "execute_result"
    },
    {
     "data": {
      "image/png": "[encoded data removed]",
      "text/plain": [
       "<Figure size 720x576 with 1 Axes>"
      ]
     },
     "metadata": {
      "needs_background": "light"
     },
     "output_type": "display_data"
    }
   ],
   "source": [
    "#On observe les boxplot par catégorie (pour la variable cible SiteEnergyUse)\n",
    "fig, ax = plt.subplots(figsize=(10,8))\n",
    "sns.boxplot(x='SiteEnergyUse',y = 'PrimaryPropertyType', ax=ax, data=data_exploration, orient=\"h\"\n",
    "            ,palette='rainbow', order = data_exploration['PrimaryPropertyType'].value_counts().index)\n",
    "plt.title(\"Boxplot PrimaryPropertyType\")"
   ]
  },
  {
   "cell_type": "code",
   "execution_count": 41,
   "metadata": {},
   "outputs": [
    {
     "data": {
      "text/plain": [
       "Text(0.5, 1.0, 'Boxplot PrimaryPropertyType')"
      ]
     },
     "execution_count": 41,
     "metadata": {},
     "output_type": "execute_result"
    },
    {
     "data": {
      "image/png": "[encoded data removed]",
      "text/plain": [
       "<Figure size 720x576 with 1 Axes>"
      ]
     },
     "metadata": {
      "needs_background": "light"
     },
     "output_type": "display_data"
    }
   ],
   "source": [
    "#On observe les boxplot par catégorie (pour la variable cible TotalGHGEmissions)\n",
    "fig, ax = plt.subplots(figsize=(10,8))\n",
    "sns.boxplot(x='TotalGHGEmissions',y = 'PrimaryPropertyType', ax=ax, data=data_exploration, orient=\"h\"\n",
    "            ,palette='rainbow', order = data_exploration['PrimaryPropertyType'].value_counts().index)\n",
    "plt.title(\"Boxplot PrimaryPropertyType\")"
   ]
  },
  {
   "cell_type": "code",
   "execution_count": 42,
   "metadata": {},
   "outputs": [
    {
     "name": "stdout",
     "output_type": "stream",
     "text": [
      "                            OLS Regression Results                            \n",
      "==============================================================================\n",
      "Dep. Variable:          SiteEnergyUse   R-squared:                       0.262\n",
      "Model:                            OLS   Adj. R-squared:                  0.243\n",
      "Method:                 Least Squares   F-statistic:                     14.03\n",
      "Date:                Tue, 20 Apr 2021   Prob (F-statistic):           2.01e-36\n",
      "Time:                        15:51:02   Log-Likelihood:                -11212.\n",
      "No. Observations:                 730   AIC:                         2.246e+04\n",
      "Df Residuals:                     711   BIC:                         2.255e+04\n",
      "Df Model:                          18                                         \n",
      "Covariance Type:            nonrobust                                         \n",
      "======================================================================================================================\n",
      "                                                         coef    std err          t      P>|t|      [0.025      0.975]\n",
      "----------------------------------------------------------------------------------------------------------------------\n",
      "Intercept                                           1.427e+06   1.94e+05      7.355      0.000    1.05e+06    1.81e+06\n",
      "PrimaryPropertyType[T.Hospital]                     6.107e+05   1.16e+06      0.525      0.600   -1.67e+06     2.9e+06\n",
      "PrimaryPropertyType[T.Hotel]                        1.595e+06   3.04e+05      5.243      0.000    9.98e+05    2.19e+06\n",
      "PrimaryPropertyType[T.K-12 School]                   5.67e+05   2.25e+05      2.522      0.012    1.26e+05    1.01e+06\n",
      "PrimaryPropertyType[T.Large Office]                 3.166e+06   3.08e+05     10.275      0.000    2.56e+06    3.77e+06\n",
      "PrimaryPropertyType[T.Low-Rise Multifamily]         5.701e+05   1.16e+06      0.490      0.624   -1.72e+06    2.86e+06\n",
      "PrimaryPropertyType[T.Medical Office]               8.747e+05   3.27e+05      2.674      0.008    2.33e+05    1.52e+06\n",
      "PrimaryPropertyType[T.Mixed Use Property]           1.183e+06   3.39e+05      3.485      0.001    5.16e+05    1.85e+06\n",
      "PrimaryPropertyType[T.Non-Refrigerated Warehouse]  -1.955e+05   1.16e+06     -0.168      0.867   -2.48e+06    2.09e+06\n",
      "PrimaryPropertyType[T.Office]                       -8.47e+05   6.91e+05     -1.227      0.220    -2.2e+06    5.09e+05\n",
      "PrimaryPropertyType[T.Other]                        4.499e+05   5.07e+05      0.887      0.375   -5.46e+05    1.45e+06\n",
      "PrimaryPropertyType[T.Refrigerated Warehouse]       7.736e+04   5.49e+05      0.141      0.888      -1e+06    1.15e+06\n",
      "PrimaryPropertyType[T.Residence Hall]                5.53e+05   3.97e+05      1.394      0.164   -2.26e+05    1.33e+06\n",
      "PrimaryPropertyType[T.Retail Store]                 4.973e+05   2.47e+05      2.017      0.044    1.34e+04    9.81e+05\n",
      "PrimaryPropertyType[T.Senior Care Community]        1.152e+06   6.06e+05      1.901      0.058   -3.76e+04    2.34e+06\n",
      "PrimaryPropertyType[T.Small- and Mid-Sized Office]  7.573e+05   2.08e+05      3.635      0.000    3.48e+05    1.17e+06\n",
      "PrimaryPropertyType[T.Supermarket / Grocery Store]  2.101e+06   6.91e+05      3.042      0.002    7.45e+05    3.46e+06\n",
      "PrimaryPropertyType[T.Warehouse]                   -9.301e+04   2.19e+05     -0.424      0.672   -5.24e+05    3.38e+05\n",
      "PrimaryPropertyType[T.Worship Facility]            -3.537e+05   2.42e+05     -1.462      0.144   -8.29e+05    1.21e+05\n",
      "==============================================================================\n",
      "Omnibus:                       77.884   Durbin-Watson:                   1.375\n",
      "Prob(Omnibus):                  0.000   Jarque-Bera (JB):              101.625\n",
      "Skew:                           0.848   Prob(JB):                     8.56e-23\n",
      "Kurtosis:                       3.683   Cond. No.                         31.5\n",
      "==============================================================================\n",
      "\n",
      "Warnings:\n",
      "[1] Standard Errors assume that the covariance matrix of the errors is correctly specified.\n"
     ]
    }
   ],
   "source": [
    "#On effectue une ANOVA sur le type de propriété (pour SiteEnergyUse)\n",
    "anova_PrimaryPropertyType = smf.ols('SiteEnergyUse~PrimaryPropertyType', data=data_exploration).fit()\n",
    "print(anova_PrimaryPropertyType.summary())"
   ]
  },
  {
   "cell_type": "code",
   "execution_count": 43,
   "metadata": {},
   "outputs": [
    {
     "data": {
      "text/html": [
       "<div>\n",
       "<style scoped>\n",
       "    .dataframe tbody tr th:only-of-type {\n",
       "        vertical-align: middle;\n",
       "    }\n",
       "\n",
       "    .dataframe tbody tr th {\n",
       "        vertical-align: top;\n",
       "    }\n",
       "\n",
       "    .dataframe thead th {\n",
       "        text-align: right;\n",
       "    }\n",
       "</style>\n",
       "<table border=\"1\" class=\"dataframe\">\n",
       "  <thead>\n",
       "    <tr style=\"text-align: right;\">\n",
       "      <th></th>\n",
       "      <th>sum_sq</th>\n",
       "      <th>df</th>\n",
       "      <th>F</th>\n",
       "      <th>PR(&gt;F)</th>\n",
       "    </tr>\n",
       "  </thead>\n",
       "  <tbody>\n",
       "    <tr>\n",
       "      <th>PrimaryPropertyType</th>\n",
       "      <td>3.326808e+14</td>\n",
       "      <td>18.0</td>\n",
       "      <td>14.026938</td>\n",
       "      <td>2.008324e-36</td>\n",
       "    </tr>\n",
       "    <tr>\n",
       "      <th>Residual</th>\n",
       "      <td>9.368326e+14</td>\n",
       "      <td>711.0</td>\n",
       "      <td>NaN</td>\n",
       "      <td>NaN</td>\n",
       "    </tr>\n",
       "  </tbody>\n",
       "</table>\n",
       "</div>"
      ],
      "text/plain": [
       "                           sum_sq     df          F        PR(>F)\n",
       "PrimaryPropertyType  3.326808e+14   18.0  14.026938  2.008324e-36\n",
       "Residual             9.368326e+14  711.0        NaN           NaN"
      ]
     },
     "execution_count": 43,
     "metadata": {},
     "output_type": "execute_result"
    }
   ],
   "source": [
    "#Test de Fisher : on a une p-value égale à 2.008324e-36 (<5%)\n",
    "sm.stats.anova_lm(anova_PrimaryPropertyType, typ=2)"
   ]
  },
  {
   "cell_type": "code",
   "execution_count": 44,
   "metadata": {},
   "outputs": [
    {
     "name": "stdout",
     "output_type": "stream",
     "text": [
      "                            OLS Regression Results                            \n",
      "==============================================================================\n",
      "Dep. Variable:      TotalGHGEmissions   R-squared:                       0.133\n",
      "Model:                            OLS   Adj. R-squared:                  0.111\n",
      "Method:                 Least Squares   F-statistic:                     6.039\n",
      "Date:                Tue, 20 Apr 2021   Prob (F-statistic):           8.49e-14\n",
      "Time:                        15:51:02   Log-Likelihood:                -3582.5\n",
      "No. Observations:                 730   AIC:                             7203.\n",
      "Df Residuals:                     711   BIC:                             7290.\n",
      "Df Model:                          18                                         \n",
      "Covariance Type:            nonrobust                                         \n",
      "======================================================================================================================\n",
      "                                                         coef    std err          t      P>|t|      [0.025      0.975]\n",
      "----------------------------------------------------------------------------------------------------------------------\n",
      "Intercept                                             33.0860      5.607      5.900      0.000      22.077      44.095\n",
      "PrimaryPropertyType[T.Hospital]                      -18.8760     33.644     -0.561      0.575     -84.930      47.178\n",
      "PrimaryPropertyType[T.Hotel]                          52.9298      8.792      6.020      0.000      35.669      70.191\n",
      "PrimaryPropertyType[T.K-12 School]                    24.8197      6.499      3.819      0.000      12.061      37.578\n",
      "PrimaryPropertyType[T.Large Office]                   15.2810      8.905      1.716      0.087      -2.201      32.763\n",
      "PrimaryPropertyType[T.Low-Rise Multifamily]           -7.4860     33.644     -0.223      0.824     -73.540      58.568\n",
      "PrimaryPropertyType[T.Medical Office]                 -0.2660      9.453     -0.028      0.978     -18.826      18.294\n",
      "PrimaryPropertyType[T.Mixed Use Property]              6.4169      9.807      0.654      0.513     -12.837      25.671\n",
      "PrimaryPropertyType[T.Non-Refrigerated Warehouse]      3.6340     33.644      0.108      0.914     -62.420      69.688\n",
      "PrimaryPropertyType[T.Office]                        -22.3427     19.957     -1.120      0.263     -61.524      16.839\n",
      "PrimaryPropertyType[T.Other]                           0.5690     14.658      0.039      0.969     -28.209      29.347\n",
      "PrimaryPropertyType[T.Refrigerated Warehouse]        -12.9500     15.860     -0.817      0.414     -44.088      18.188\n",
      "PrimaryPropertyType[T.Residence Hall]                 21.1422     11.467      1.844      0.066      -1.371      43.655\n",
      "PrimaryPropertyType[T.Retail Store]                    1.5235      7.124      0.214      0.831     -12.463      15.510\n",
      "PrimaryPropertyType[T.Senior Care Community]          19.8190     17.509      1.132      0.258     -14.557      54.195\n",
      "PrimaryPropertyType[T.Small- and Mid-Sized Office]     0.4951      6.021      0.082      0.934     -11.325      12.316\n",
      "PrimaryPropertyType[T.Supermarket / Grocery Store]    33.2607     19.957      1.667      0.096      -5.921      72.442\n",
      "PrimaryPropertyType[T.Warehouse]                      -1.9338      6.339     -0.305      0.760     -14.378      10.511\n",
      "PrimaryPropertyType[T.Worship Facility]                4.5784      6.994      0.655      0.513      -9.152      18.309\n",
      "==============================================================================\n",
      "Omnibus:                      177.543   Durbin-Watson:                   1.771\n",
      "Prob(Omnibus):                  0.000   Jarque-Bera (JB):              360.565\n",
      "Skew:                           1.365   Prob(JB):                     5.06e-79\n",
      "Kurtosis:                       5.099   Cond. No.                         31.5\n",
      "==============================================================================\n",
      "\n",
      "Warnings:\n",
      "[1] Standard Errors assume that the covariance matrix of the errors is correctly specified.\n"
     ]
    }
   ],
   "source": [
    "#On effectue une ANOVA sur le type de propriété (pour TotalGHGEmissions)\n",
    "anova_PrimaryPropertyType_GHG = smf.ols('TotalGHGEmissions~PrimaryPropertyType', data=data_exploration).fit()\n",
    "print(anova_PrimaryPropertyType_GHG.summary())"
   ]
  },
  {
   "cell_type": "code",
   "execution_count": 45,
   "metadata": {},
   "outputs": [
    {
     "data": {
      "text/html": [
       "<div>\n",
       "<style scoped>\n",
       "    .dataframe tbody tr th:only-of-type {\n",
       "        vertical-align: middle;\n",
       "    }\n",
       "\n",
       "    .dataframe tbody tr th {\n",
       "        vertical-align: top;\n",
       "    }\n",
       "\n",
       "    .dataframe thead th {\n",
       "        text-align: right;\n",
       "    }\n",
       "</style>\n",
       "<table border=\"1\" class=\"dataframe\">\n",
       "  <thead>\n",
       "    <tr style=\"text-align: right;\">\n",
       "      <th></th>\n",
       "      <th>sum_sq</th>\n",
       "      <th>df</th>\n",
       "      <th>F</th>\n",
       "      <th>PR(&gt;F)</th>\n",
       "    </tr>\n",
       "  </thead>\n",
       "  <tbody>\n",
       "    <tr>\n",
       "      <th>PrimaryPropertyType</th>\n",
       "      <td>119617.775570</td>\n",
       "      <td>18.0</td>\n",
       "      <td>6.038576</td>\n",
       "      <td>8.492413e-14</td>\n",
       "    </tr>\n",
       "    <tr>\n",
       "      <th>Residual</th>\n",
       "      <td>782453.034477</td>\n",
       "      <td>711.0</td>\n",
       "      <td>NaN</td>\n",
       "      <td>NaN</td>\n",
       "    </tr>\n",
       "  </tbody>\n",
       "</table>\n",
       "</div>"
      ],
      "text/plain": [
       "                            sum_sq     df         F        PR(>F)\n",
       "PrimaryPropertyType  119617.775570   18.0  6.038576  8.492413e-14\n",
       "Residual             782453.034477  711.0       NaN           NaN"
      ]
     },
     "execution_count": 45,
     "metadata": {},
     "output_type": "execute_result"
    }
   ],
   "source": [
    "#Test de Fisher : on a une p-value égale à 2.008324e-36 (<5%)\n",
    "sm.stats.anova_lm(anova_PrimaryPropertyType_GHG, typ=2)"
   ]
  },
  {
   "cell_type": "code",
   "execution_count": 46,
   "metadata": {},
   "outputs": [
    {
     "data": {
      "image/png": "[encoded data removed]",
      "text/plain": [
       "<Figure size 432x288 with 1 Axes>"
      ]
     },
     "metadata": {
      "needs_background": "light"
     },
     "output_type": "display_data"
    }
   ],
   "source": [
    "#On observe le nombre d'observations par catégorie\n",
    "fig, ax = plt.subplots(figsize=(6,4))\n",
    "graph = sns.countplot(y='CouncilDistrictCode', ax=ax, data=data_exploration \n",
    "                      ,palette='rainbow', order = data_exploration['CouncilDistrictCode'].value_counts().index)"
   ]
  },
  {
   "cell_type": "code",
   "execution_count": 47,
   "metadata": {},
   "outputs": [
    {
     "data": {
      "text/plain": [
       "Text(0.5, 1.0, 'Boxplot CouncilDistrictCode')"
      ]
     },
     "execution_count": 47,
     "metadata": {},
     "output_type": "execute_result"
    },
    {
     "data": {
      "image/png": "[encoded data removed]",
      "text/plain": [
       "<Figure size 432x288 with 1 Axes>"
      ]
     },
     "metadata": {
      "needs_background": "light"
     },
     "output_type": "display_data"
    }
   ],
   "source": [
    "#On observe les boxplot par catégorie (pour la variable cible SiteEnergyUse)\n",
    "fig, ax = plt.subplots(figsize=(6,4))\n",
    "sns.boxplot(x='SiteEnergyUse',y = 'CouncilDistrictCode', ax=ax, data=data_exploration, orient=\"h\"\n",
    "            ,palette='rainbow', order = data_exploration['CouncilDistrictCode'].value_counts().index)\n",
    "plt.title(\"Boxplot CouncilDistrictCode\")"
   ]
  },
  {
   "cell_type": "code",
   "execution_count": 48,
   "metadata": {},
   "outputs": [
    {
     "data": {
      "text/plain": [
       "Text(0.5, 1.0, 'Boxplot CouncilDistrictCode')"
      ]
     },
     "execution_count": 48,
     "metadata": {},
     "output_type": "execute_result"
    },
    {
     "data": {
      "image/png": "[encoded data removed]",
      "text/plain": [
       "<Figure size 432x288 with 1 Axes>"
      ]
     },
     "metadata": {
      "needs_background": "light"
     },
     "output_type": "display_data"
    }
   ],
   "source": [
    "#On observe les boxplot par catégorie (pour la variable cible TotalGHGEmissions)\n",
    "fig, ax = plt.subplots(figsize=(6,4))\n",
    "sns.boxplot(x='TotalGHGEmissions',y = 'CouncilDistrictCode', ax=ax, data=data_exploration, orient=\"h\"\n",
    "            ,palette='rainbow', order = data_exploration['CouncilDistrictCode'].value_counts().index)\n",
    "plt.title(\"Boxplot CouncilDistrictCode\")"
   ]
  },
  {
   "cell_type": "code",
   "execution_count": 49,
   "metadata": {},
   "outputs": [
    {
     "name": "stdout",
     "output_type": "stream",
     "text": [
      "                            OLS Regression Results                            \n",
      "==============================================================================\n",
      "Dep. Variable:          SiteEnergyUse   R-squared:                       0.040\n",
      "Model:                            OLS   Adj. R-squared:                  0.032\n",
      "Method:                 Least Squares   F-statistic:                     5.005\n",
      "Date:                Tue, 20 Apr 2021   Prob (F-statistic):           4.88e-05\n",
      "Time:                        15:51:03   Log-Likelihood:                -11308.\n",
      "No. Observations:                 730   AIC:                         2.263e+04\n",
      "Df Residuals:                     723   BIC:                         2.266e+04\n",
      "Df Model:                           6                                         \n",
      "Covariance Type:            nonrobust                                         \n",
      "============================================================================================\n",
      "                               coef    std err          t      P>|t|      [0.025      0.975]\n",
      "--------------------------------------------------------------------------------------------\n",
      "Intercept                 1.881e+06   1.65e+05     11.409      0.000    1.56e+06    2.21e+06\n",
      "CouncilDistrictCode[T.2] -2.103e+05   1.89e+05     -1.112      0.266   -5.82e+05    1.61e+05\n",
      "CouncilDistrictCode[T.3]  1.075e+05   2.19e+05      0.492      0.623   -3.22e+05    5.36e+05\n",
      "CouncilDistrictCode[T.4]  1.492e+05   2.14e+05      0.698      0.486   -2.71e+05    5.69e+05\n",
      "CouncilDistrictCode[T.5] -1.097e+05   2.36e+05     -0.464      0.642   -5.73e+05    3.54e+05\n",
      "CouncilDistrictCode[T.6] -4.298e+04   2.37e+05     -0.181      0.856   -5.09e+05    4.23e+05\n",
      "CouncilDistrictCode[T.7]   4.88e+05   1.91e+05      2.554      0.011    1.13e+05    8.63e+05\n",
      "==============================================================================\n",
      "Omnibus:                       81.443   Durbin-Watson:                   1.314\n",
      "Prob(Omnibus):                  0.000   Jarque-Bera (JB):              107.078\n",
      "Skew:                           0.927   Prob(JB):                     5.60e-24\n",
      "Kurtosis:                       3.291   Cond. No.                         10.3\n",
      "==============================================================================\n",
      "\n",
      "Warnings:\n",
      "[1] Standard Errors assume that the covariance matrix of the errors is correctly specified.\n"
     ]
    }
   ],
   "source": [
    "#On effectue une ANOVA sur le type de district (pour SiteEnergyUse)\n",
    "anova_CouncilDistrictCode = smf.ols('SiteEnergyUse~CouncilDistrictCode', data=data_exploration).fit()\n",
    "print(anova_CouncilDistrictCode.summary())"
   ]
  },
  {
   "cell_type": "code",
   "execution_count": 50,
   "metadata": {},
   "outputs": [
    {
     "data": {
      "text/html": [
       "<div>\n",
       "<style scoped>\n",
       "    .dataframe tbody tr th:only-of-type {\n",
       "        vertical-align: middle;\n",
       "    }\n",
       "\n",
       "    .dataframe tbody tr th {\n",
       "        vertical-align: top;\n",
       "    }\n",
       "\n",
       "    .dataframe thead th {\n",
       "        text-align: right;\n",
       "    }\n",
       "</style>\n",
       "<table border=\"1\" class=\"dataframe\">\n",
       "  <thead>\n",
       "    <tr style=\"text-align: right;\">\n",
       "      <th></th>\n",
       "      <th>sum_sq</th>\n",
       "      <th>df</th>\n",
       "      <th>F</th>\n",
       "      <th>PR(&gt;F)</th>\n",
       "    </tr>\n",
       "  </thead>\n",
       "  <tbody>\n",
       "    <tr>\n",
       "      <th>CouncilDistrictCode</th>\n",
       "      <td>5.062874e+13</td>\n",
       "      <td>6.0</td>\n",
       "      <td>5.005202</td>\n",
       "      <td>0.000049</td>\n",
       "    </tr>\n",
       "    <tr>\n",
       "      <th>Residual</th>\n",
       "      <td>1.218885e+15</td>\n",
       "      <td>723.0</td>\n",
       "      <td>NaN</td>\n",
       "      <td>NaN</td>\n",
       "    </tr>\n",
       "  </tbody>\n",
       "</table>\n",
       "</div>"
      ],
      "text/plain": [
       "                           sum_sq     df         F    PR(>F)\n",
       "CouncilDistrictCode  5.062874e+13    6.0  5.005202  0.000049\n",
       "Residual             1.218885e+15  723.0       NaN       NaN"
      ]
     },
     "execution_count": 50,
     "metadata": {},
     "output_type": "execute_result"
    }
   ],
   "source": [
    "#Test de Fisher : on a une p-value égale à 0.000049 (<5%)\n",
    "sm.stats.anova_lm(anova_CouncilDistrictCode, typ=2)"
   ]
  },
  {
   "cell_type": "code",
   "execution_count": 51,
   "metadata": {},
   "outputs": [
    {
     "name": "stdout",
     "output_type": "stream",
     "text": [
      "                            OLS Regression Results                            \n",
      "==============================================================================\n",
      "Dep. Variable:      TotalGHGEmissions   R-squared:                       0.013\n",
      "Model:                            OLS   Adj. R-squared:                  0.005\n",
      "Method:                 Least Squares   F-statistic:                     1.610\n",
      "Date:                Tue, 20 Apr 2021   Prob (F-statistic):              0.142\n",
      "Time:                        15:51:03   Log-Likelihood:                -3629.6\n",
      "No. Observations:                 730   AIC:                             7273.\n",
      "Df Residuals:                     723   BIC:                             7305.\n",
      "Df Model:                           6                                         \n",
      "Covariance Type:            nonrobust                                         \n",
      "============================================================================================\n",
      "                               coef    std err          t      P>|t|      [0.025      0.975]\n",
      "--------------------------------------------------------------------------------------------\n",
      "Intercept                   43.8292      4.456      9.835      0.000      35.080      52.578\n",
      "CouncilDistrictCode[T.2]    -9.2188      5.110     -1.804      0.072     -19.250       0.813\n",
      "CouncilDistrictCode[T.3]     2.4095      5.905      0.408      0.683      -9.184      14.003\n",
      "CouncilDistrictCode[T.4]    -1.3160      5.778     -0.228      0.820     -12.660      10.028\n",
      "CouncilDistrictCode[T.5]    -7.6597      6.382     -1.200      0.230     -20.189       4.869\n",
      "CouncilDistrictCode[T.6]    -6.8187      6.410     -1.064      0.288     -19.403       5.766\n",
      "CouncilDistrictCode[T.7]    -2.7287      5.163     -0.528      0.597     -12.866       7.408\n",
      "==============================================================================\n",
      "Omnibus:                      160.053   Durbin-Watson:                   1.701\n",
      "Prob(Omnibus):                  0.000   Jarque-Bera (JB):              281.784\n",
      "Skew:                           1.335   Prob(JB):                     6.48e-62\n",
      "Kurtosis:                       4.462   Cond. No.                         10.3\n",
      "==============================================================================\n",
      "\n",
      "Warnings:\n",
      "[1] Standard Errors assume that the covariance matrix of the errors is correctly specified.\n"
     ]
    }
   ],
   "source": [
    "#On effectue une ANOVA sur le type de district (pour TotalGHGEmissions)\n",
    "anova_CouncilDistrictCode_GHG = smf.ols('TotalGHGEmissions~CouncilDistrictCode', data=data_exploration).fit()\n",
    "print(anova_CouncilDistrictCode_GHG.summary())"
   ]
  },
  {
   "cell_type": "code",
   "execution_count": 52,
   "metadata": {},
   "outputs": [
    {
     "data": {
      "text/html": [
       "<div>\n",
       "<style scoped>\n",
       "    .dataframe tbody tr th:only-of-type {\n",
       "        vertical-align: middle;\n",
       "    }\n",
       "\n",
       "    .dataframe tbody tr th {\n",
       "        vertical-align: top;\n",
       "    }\n",
       "\n",
       "    .dataframe thead th {\n",
       "        text-align: right;\n",
       "    }\n",
       "</style>\n",
       "<table border=\"1\" class=\"dataframe\">\n",
       "  <thead>\n",
       "    <tr style=\"text-align: right;\">\n",
       "      <th></th>\n",
       "      <th>sum_sq</th>\n",
       "      <th>df</th>\n",
       "      <th>F</th>\n",
       "      <th>PR(&gt;F)</th>\n",
       "    </tr>\n",
       "  </thead>\n",
       "  <tbody>\n",
       "    <tr>\n",
       "      <th>CouncilDistrictCode</th>\n",
       "      <td>11890.318067</td>\n",
       "      <td>6.0</td>\n",
       "      <td>1.609542</td>\n",
       "      <td>0.141603</td>\n",
       "    </tr>\n",
       "    <tr>\n",
       "      <th>Residual</th>\n",
       "      <td>890180.491980</td>\n",
       "      <td>723.0</td>\n",
       "      <td>NaN</td>\n",
       "      <td>NaN</td>\n",
       "    </tr>\n",
       "  </tbody>\n",
       "</table>\n",
       "</div>"
      ],
      "text/plain": [
       "                            sum_sq     df         F    PR(>F)\n",
       "CouncilDistrictCode   11890.318067    6.0  1.609542  0.141603\n",
       "Residual             890180.491980  723.0       NaN       NaN"
      ]
     },
     "execution_count": 52,
     "metadata": {},
     "output_type": "execute_result"
    }
   ],
   "source": [
    "#Test de Fisher : on a une p-value égale à 0.141603 (>5%)\n",
    "sm.stats.anova_lm(anova_CouncilDistrictCode_GHG, typ=2)"
   ]
  },
  {
   "cell_type": "code",
   "execution_count": 53,
   "metadata": {},
   "outputs": [
    {
     "data": {
      "image/png": "[encoded data removed]",
      "text/plain": [
       "<Figure size 576x432 with 1 Axes>"
      ]
     },
     "metadata": {
      "needs_background": "light"
     },
     "output_type": "display_data"
    }
   ],
   "source": [
    "#On observe le nombre d'observations par catégorie\n",
    "fig, ax = plt.subplots(figsize=(8,6))\n",
    "graph = sns.countplot(y='Neighborhood', ax=ax, data=data_exploration \n",
    "                      ,palette='rainbow', order = data_exploration['Neighborhood'].value_counts().index)"
   ]
  },
  {
   "cell_type": "code",
   "execution_count": 54,
   "metadata": {},
   "outputs": [
    {
     "data": {
      "text/plain": [
       "Text(0.5, 1.0, 'Boxplot Neighborhood')"
      ]
     },
     "execution_count": 54,
     "metadata": {},
     "output_type": "execute_result"
    },
    {
     "data": {
      "image/png": "[encoded data removed]",
      "text/plain": [
       "<Figure size 576x432 with 1 Axes>"
      ]
     },
     "metadata": {
      "needs_background": "light"
     },
     "output_type": "display_data"
    }
   ],
   "source": [
    "#On observe les boxplot par catégorie (pour la variable cible SiteEnergyUse)\n",
    "fig, ax = plt.subplots(figsize=(8,6))\n",
    "sns.boxplot(x='SiteEnergyUse',y = 'Neighborhood', ax=ax, data=data_exploration, orient=\"h\"\n",
    "            ,palette='rainbow', order = data_exploration['Neighborhood'].value_counts().index)\n",
    "plt.title(\"Boxplot Neighborhood\")"
   ]
  },
  {
   "cell_type": "code",
   "execution_count": 55,
   "metadata": {},
   "outputs": [
    {
     "data": {
      "text/plain": [
       "Text(0.5, 1.0, 'Boxplot Neighborhood')"
      ]
     },
     "execution_count": 55,
     "metadata": {},
     "output_type": "execute_result"
    },
    {
     "data": {
      "image/png": "[encoded data removed]",
      "text/plain": [
       "<Figure size 576x432 with 1 Axes>"
      ]
     },
     "metadata": {
      "needs_background": "light"
     },
     "output_type": "display_data"
    }
   ],
   "source": [
    "#On observe les boxplot par catégorie (pour la variable cible TotalGHGEmissions)\n",
    "fig, ax = plt.subplots(figsize=(8,6))\n",
    "sns.boxplot(x='TotalGHGEmissions',y = 'Neighborhood', ax=ax, data=data_exploration, orient=\"h\"\n",
    "            ,palette='rainbow', order = data_exploration['Neighborhood'].value_counts().index)\n",
    "plt.title(\"Boxplot Neighborhood\")"
   ]
  },
  {
   "cell_type": "code",
   "execution_count": 56,
   "metadata": {},
   "outputs": [
    {
     "name": "stdout",
     "output_type": "stream",
     "text": [
      "                            OLS Regression Results                            \n",
      "==============================================================================\n",
      "Dep. Variable:          SiteEnergyUse   R-squared:                       0.061\n",
      "Model:                            OLS   Adj. R-squared:                  0.039\n",
      "Method:                 Least Squares   F-statistic:                     2.723\n",
      "Date:                Tue, 20 Apr 2021   Prob (F-statistic):           0.000218\n",
      "Time:                        15:51:04   Log-Likelihood:                -11300.\n",
      "No. Observations:                 730   AIC:                         2.264e+04\n",
      "Df Residuals:                     712   BIC:                         2.272e+04\n",
      "Df Model:                          17                                         \n",
      "Covariance Type:            nonrobust                                         \n",
      "=========================================================================================================\n",
      "                                            coef    std err          t      P>|t|      [0.025      0.975]\n",
      "---------------------------------------------------------------------------------------------------------\n",
      "Intercept                              1.729e+06    2.4e+05      7.194      0.000    1.26e+06     2.2e+06\n",
      "Neighborhood[T.Ballard]               -2.487e+05    6.9e+05     -0.360      0.719    -1.6e+06    1.11e+06\n",
      "Neighborhood[T.CENTRAL]                2.398e+05   3.49e+05      0.686      0.493   -4.46e+05    9.26e+05\n",
      "Neighborhood[T.Central]               -7.068e+05   1.32e+06     -0.537      0.591   -3.29e+06    1.88e+06\n",
      "Neighborhood[T.DELRIDGE]               2.798e+05   3.66e+05      0.765      0.445   -4.38e+05    9.98e+05\n",
      "Neighborhood[T.DOWNTOWN]               6.258e+05    2.7e+05      2.315      0.021    9.51e+04    1.16e+06\n",
      "Neighborhood[T.Delridge]               8.532e+05   1.32e+06      0.648      0.517   -1.73e+06    3.44e+06\n",
      "Neighborhood[T.EAST]                    2.19e+05   3.08e+05      0.711      0.478   -3.86e+05    8.24e+05\n",
      "Neighborhood[T.GREATER DUWAMISH]      -8.757e+04   2.59e+05     -0.338      0.735   -5.96e+05    4.21e+05\n",
      "Neighborhood[T.LAKE UNION]              8.11e+05   2.87e+05      2.826      0.005    2.48e+05    1.37e+06\n",
      "Neighborhood[T.MAGNOLIA / QUEEN ANNE]  4.441e+05   2.87e+05      1.548      0.122   -1.19e+05    1.01e+06\n",
      "Neighborhood[T.NORTH]                  1.609e+05   3.53e+05      0.456      0.649   -5.32e+05    8.54e+05\n",
      "Neighborhood[T.NORTHEAST]              2.755e+05   2.92e+05      0.944      0.345   -2.97e+05    8.49e+05\n",
      "Neighborhood[T.NORTHWEST]             -1.324e+05   3.17e+05     -0.417      0.677   -7.55e+05     4.9e+05\n",
      "Neighborhood[T.North]                  4.387e+05   7.85e+05      0.559      0.576    -1.1e+06    1.98e+06\n",
      "Neighborhood[T.Northwest]             -7.557e+05    6.9e+05     -1.095      0.274   -2.11e+06    5.99e+05\n",
      "Neighborhood[T.SOUTHEAST]              1885.1375   3.49e+05      0.005      0.996   -6.84e+05    6.88e+05\n",
      "Neighborhood[T.SOUTHWEST]             -7.054e+04   3.76e+05     -0.188      0.851   -8.09e+05    6.68e+05\n",
      "==============================================================================\n",
      "Omnibus:                       71.137   Durbin-Watson:                   1.301\n",
      "Prob(Omnibus):                  0.000   Jarque-Bera (JB):               90.540\n",
      "Skew:                           0.858   Prob(JB):                     2.19e-20\n",
      "Kurtosis:                       3.186   Cond. No.                         30.7\n",
      "==============================================================================\n",
      "\n",
      "Warnings:\n",
      "[1] Standard Errors assume that the covariance matrix of the errors is correctly specified.\n"
     ]
    }
   ],
   "source": [
    "#On effectue une ANOVA sur le type de quartier (pour SiteEnergyUse)\n",
    "anova_Neighborhood = smf.ols('SiteEnergyUse~Neighborhood', data=data_exploration).fit()\n",
    "print(anova_Neighborhood.summary())"
   ]
  },
  {
   "cell_type": "code",
   "execution_count": 57,
   "metadata": {},
   "outputs": [
    {
     "data": {
      "text/html": [
       "<div>\n",
       "<style scoped>\n",
       "    .dataframe tbody tr th:only-of-type {\n",
       "        vertical-align: middle;\n",
       "    }\n",
       "\n",
       "    .dataframe tbody tr th {\n",
       "        vertical-align: top;\n",
       "    }\n",
       "\n",
       "    .dataframe thead th {\n",
       "        text-align: right;\n",
       "    }\n",
       "</style>\n",
       "<table border=\"1\" class=\"dataframe\">\n",
       "  <thead>\n",
       "    <tr style=\"text-align: right;\">\n",
       "      <th></th>\n",
       "      <th>sum_sq</th>\n",
       "      <th>df</th>\n",
       "      <th>F</th>\n",
       "      <th>PR(&gt;F)</th>\n",
       "    </tr>\n",
       "  </thead>\n",
       "  <tbody>\n",
       "    <tr>\n",
       "      <th>Neighborhood</th>\n",
       "      <td>7.750216e+13</td>\n",
       "      <td>17.0</td>\n",
       "      <td>2.723106</td>\n",
       "      <td>0.000218</td>\n",
       "    </tr>\n",
       "    <tr>\n",
       "      <th>Residual</th>\n",
       "      <td>1.192011e+15</td>\n",
       "      <td>712.0</td>\n",
       "      <td>NaN</td>\n",
       "      <td>NaN</td>\n",
       "    </tr>\n",
       "  </tbody>\n",
       "</table>\n",
       "</div>"
      ],
      "text/plain": [
       "                    sum_sq     df         F    PR(>F)\n",
       "Neighborhood  7.750216e+13   17.0  2.723106  0.000218\n",
       "Residual      1.192011e+15  712.0       NaN       NaN"
      ]
     },
     "execution_count": 57,
     "metadata": {},
     "output_type": "execute_result"
    }
   ],
   "source": [
    "#Test de Fisher : on a une p-value égale à 0.000218 (<5%)\n",
    "sm.stats.anova_lm(anova_Neighborhood, typ=2)"
   ]
  },
  {
   "cell_type": "code",
   "execution_count": 58,
   "metadata": {},
   "outputs": [
    {
     "name": "stdout",
     "output_type": "stream",
     "text": [
      "                            OLS Regression Results                            \n",
      "==============================================================================\n",
      "Dep. Variable:      TotalGHGEmissions   R-squared:                       0.036\n",
      "Model:                            OLS   Adj. R-squared:                  0.013\n",
      "Method:                 Least Squares   F-statistic:                     1.544\n",
      "Date:                Tue, 20 Apr 2021   Prob (F-statistic):             0.0736\n",
      "Time:                        15:51:05   Log-Likelihood:                -3621.2\n",
      "No. Observations:                 730   AIC:                             7278.\n",
      "Df Residuals:                     712   BIC:                             7361.\n",
      "Df Model:                          17                                         \n",
      "Covariance Type:            nonrobust                                         \n",
      "=========================================================================================================\n",
      "                                            coef    std err          t      P>|t|      [0.025      0.975]\n",
      "---------------------------------------------------------------------------------------------------------\n",
      "Intercept                                37.2234      6.491      5.735      0.000      24.479      49.967\n",
      "Neighborhood[T.Ballard]                 -13.3384     18.644     -0.715      0.475     -49.943      23.266\n",
      "Neighborhood[T.CENTRAL]                  -0.3400      9.441     -0.036      0.971     -18.875      18.195\n",
      "Neighborhood[T.Central]                 -30.1034     35.553     -0.847      0.397     -99.905      39.698\n",
      "Neighborhood[T.DELRIDGE]                  4.7916      9.883      0.485      0.628     -14.612      24.195\n",
      "Neighborhood[T.DOWNTOWN]                  1.1330      7.304      0.155      0.877     -13.206      15.472\n",
      "Neighborhood[T.Delridge]                  5.5166     35.553      0.155      0.877     -64.285      75.318\n",
      "Neighborhood[T.EAST]                     20.9806      8.324      2.521      0.012       4.638      37.323\n",
      "Neighborhood[T.GREATER DUWAMISH]         -0.5949      6.997     -0.085      0.932     -14.333      13.143\n",
      "Neighborhood[T.LAKE UNION]               -1.0117      7.753     -0.130      0.896     -16.233      14.209\n",
      "Neighborhood[T.MAGNOLIA / QUEEN ANNE]     0.6035      7.753      0.078      0.938     -14.617      15.824\n",
      "Neighborhood[T.NORTH]                    -8.9406      9.540     -0.937      0.349     -27.670       9.789\n",
      "Neighborhood[T.NORTHEAST]                12.8738      7.885      1.633      0.103      -2.606      28.353\n",
      "Neighborhood[T.NORTHWEST]                 4.9322      8.571      0.575      0.565     -11.896      21.760\n",
      "Neighborhood[T.North]                    14.6632     21.200      0.692      0.489     -26.959      56.285\n",
      "Neighborhood[T.Northwest]                -7.7359     18.644     -0.415      0.678     -44.340      28.868\n",
      "Neighborhood[T.SOUTHEAST]                -0.0454      9.441     -0.005      0.996     -18.581      18.490\n",
      "Neighborhood[T.SOUTHWEST]                 1.2301     10.160      0.121      0.904     -18.718      21.178\n",
      "==============================================================================\n",
      "Omnibus:                      147.966   Durbin-Watson:                   1.726\n",
      "Prob(Omnibus):                  0.000   Jarque-Bera (JB):              251.072\n",
      "Skew:                           1.258   Prob(JB):                     3.02e-55\n",
      "Kurtosis:                       4.387   Cond. No.                         30.7\n",
      "==============================================================================\n",
      "\n",
      "Warnings:\n",
      "[1] Standard Errors assume that the covariance matrix of the errors is correctly specified.\n"
     ]
    }
   ],
   "source": [
    "#On effectue une ANOVA sur le type de quartier (pour TotalGHGEmissions)\n",
    "anova_Neighborhood_GHG = smf.ols('TotalGHGEmissions~Neighborhood', data=data_exploration).fit()\n",
    "print(anova_Neighborhood_GHG.summary())"
   ]
  },
  {
   "cell_type": "code",
   "execution_count": 59,
   "metadata": {},
   "outputs": [
    {
     "data": {
      "text/html": [
       "<div>\n",
       "<style scoped>\n",
       "    .dataframe tbody tr th:only-of-type {\n",
       "        vertical-align: middle;\n",
       "    }\n",
       "\n",
       "    .dataframe tbody tr th {\n",
       "        vertical-align: top;\n",
       "    }\n",
       "\n",
       "    .dataframe thead th {\n",
       "        text-align: right;\n",
       "    }\n",
       "</style>\n",
       "<table border=\"1\" class=\"dataframe\">\n",
       "  <thead>\n",
       "    <tr style=\"text-align: right;\">\n",
       "      <th></th>\n",
       "      <th>sum_sq</th>\n",
       "      <th>df</th>\n",
       "      <th>F</th>\n",
       "      <th>PR(&gt;F)</th>\n",
       "    </tr>\n",
       "  </thead>\n",
       "  <tbody>\n",
       "    <tr>\n",
       "      <th>Neighborhood</th>\n",
       "      <td>32074.034817</td>\n",
       "      <td>17.0</td>\n",
       "      <td>1.54407</td>\n",
       "      <td>0.073608</td>\n",
       "    </tr>\n",
       "    <tr>\n",
       "      <th>Residual</th>\n",
       "      <td>869996.775230</td>\n",
       "      <td>712.0</td>\n",
       "      <td>NaN</td>\n",
       "      <td>NaN</td>\n",
       "    </tr>\n",
       "  </tbody>\n",
       "</table>\n",
       "</div>"
      ],
      "text/plain": [
       "                     sum_sq     df        F    PR(>F)\n",
       "Neighborhood   32074.034817   17.0  1.54407  0.073608\n",
       "Residual      869996.775230  712.0      NaN       NaN"
      ]
     },
     "execution_count": 59,
     "metadata": {},
     "output_type": "execute_result"
    }
   ],
   "source": [
    "#Test de Fisher : on a une p-value égale à 0.073608 (>5%)\n",
    "sm.stats.anova_lm(anova_Neighborhood_GHG, typ=2)"
   ]
  },
  {
   "cell_type": "markdown",
   "metadata": {},
   "source": [
    "# Analyse variable quantitative (corrélation Pearson / Spearman)"
   ]
  },
  {
   "cell_type": "code",
   "execution_count": 60,
   "metadata": {},
   "outputs": [
    {
     "name": "stdout",
     "output_type": "stream",
     "text": [
      "Moyenne:  2.52  Mediane:  2.0  Mode:  1.0  Variance:  2.36  Ecart-type:  1.54\n"
     ]
    },
    {
     "data": {
      "image/png": "[encoded data removed]",
      "text/plain": [
       "<Figure size 1440x1440 with 4 Axes>"
      ]
     },
     "metadata": {
      "needs_background": "light"
     },
     "output_type": "display_data"
    }
   ],
   "source": [
    "#On observe l'histogramme, le boxplot et le nuage de points par rapport aux variables cibles\n",
    "fig = plt.figure(figsize=(20,20))\n",
    "ax = fig.add_subplot(5,3,1)\n",
    "data_exploration[\"NumberofFloors\"].hist()\n",
    "plt.title(\"Histogramme NumberofFloors\")\n",
    "ax = fig.add_subplot(5,3,2)\n",
    "sns.boxplot(x = 'NumberofFloors', data=data_exploration, orient=\"h\", palette=\"Set2\")\n",
    "plt.title(\"Boxplot NumberofFloors\")\n",
    "ax = fig.add_subplot(5,3,3)\n",
    "plt.scatter(data_exploration[\"NumberofFloors\"], data_exploration[\"SiteEnergyUse\"], color=\"purple\")\n",
    "plt.title(\"NumberofFloors / SiteEnergyUse\")\n",
    "ax = fig.add_subplot(5,3,4)\n",
    "plt.scatter(data_exploration[\"NumberofFloors\"], data_exploration[\"TotalGHGEmissions\"], color=\"orange\")\n",
    "plt.title(\"NumberofFloors / TotalGHGEmissions\")\n",
    "\n",
    "print(\"Moyenne: \", round(data_exploration[\"NumberofFloors\"].mean(),2)\n",
    "     ,\" Mediane: \", round(data_exploration[\"NumberofFloors\"].median(),2)\n",
    "     ,\" Mode: \", round(data_exploration[\"NumberofFloors\"].mode()[0],2)\n",
    "     ,\" Variance: \", round(data_exploration[\"NumberofFloors\"].var(),2)\n",
    "     ,\" Ecart-type: \", round(data_exploration[\"NumberofFloors\"].std(),2))"
   ]
  },
  {
   "cell_type": "code",
   "execution_count": 61,
   "metadata": {},
   "outputs": [
    {
     "name": "stdout",
     "output_type": "stream",
     "text": [
      "Moyenne:  49181.19  Mediane:  39787.5  Mode:  25920  Variance:  948781487.17  Ecart-type:  30802.3\n"
     ]
    },
    {
     "data": {
      "image/png": "[encoded data removed]",
      "text/plain": [
       "<Figure size 1440x1440 with 4 Axes>"
      ]
     },
     "metadata": {
      "needs_background": "light"
     },
     "output_type": "display_data"
    }
   ],
   "source": [
    "#On observe l'histogramme, le boxplot et le nuage de points par rapport aux variables cibles\n",
    "fig = plt.figure(figsize=(20,20))\n",
    "ax = fig.add_subplot(5,3,1)\n",
    "data_exploration[\"PropertyGFATotal\"].hist()\n",
    "plt.title(\"Histogramme PropertyGFATotal\")\n",
    "ax = fig.add_subplot(5,3,2)\n",
    "sns.boxplot(x = 'PropertyGFATotal', data=data_exploration, orient=\"h\", palette=\"Set2\")\n",
    "plt.title(\"Boxplot PropertyGFATotal\")\n",
    "ax = fig.add_subplot(5,3,3)\n",
    "plt.scatter(data_exploration[\"PropertyGFATotal\"], data_exploration[\"SiteEnergyUse\"], color=\"purple\")\n",
    "plt.title(\"PropertyGFATotal / SiteEnergyUse\")\n",
    "ax = fig.add_subplot(5,3,4)\n",
    "plt.scatter(data_exploration[\"PropertyGFATotal\"], data_exploration[\"TotalGHGEmissions\"], color=\"orange\")\n",
    "plt.title(\"PropertyGFATotal / TotalGHGEmissions\")\n",
    "\n",
    "print(\"Moyenne: \", round(data_exploration[\"PropertyGFATotal\"].mean(),2)\n",
    "     ,\" Mediane: \", round(data_exploration[\"PropertyGFATotal\"].median(),2)\n",
    "     ,\" Mode: \", round(data_exploration[\"PropertyGFATotal\"].mode()[0],2)\n",
    "     ,\" Variance: \", round(data_exploration[\"PropertyGFATotal\"].var(),2)\n",
    "     ,\" Ecart-type: \", round(data_exploration[\"PropertyGFATotal\"].std(),2))"
   ]
  },
  {
   "cell_type": "code",
   "execution_count": null,
   "metadata": {},
   "outputs": [
    {
     "name": "stdout",
     "output_type": "stream",
     "text": [
      "Moyenne:  43130.5  Mediane:  35636.5  Mode:  30000.0  Variance:  608113533.46  Ecart-type:  24659.96\n"
     ]
    }
   ],
   "source": [
    "#On observe l'histogramme, le boxplot et le nuage de points par rapport aux variables cibles\n",
    "fig = plt.figure(figsize=(20,20))\n",
    "ax = fig.add_subplot(5,3,1)\n",
    "data_exploration[\"LargestPropertyUseTypeGFA\"].hist()\n",
    "plt.title(\"Histogramme LargestPropertyUseTypeGFA\")\n",
    "ax = fig.add_subplot(5,3,2)\n",
    "sns.boxplot(x = 'LargestPropertyUseTypeGFA', data=data_exploration, orient=\"h\", palette=\"Set2\")\n",
    "plt.title(\"Boxplot LargestPropertyUseTypeGFA\")\n",
    "ax = fig.add_subplot(5,3,3)\n",
    "plt.scatter(data_exploration[\"LargestPropertyUseTypeGFA\"], data_exploration[\"SiteEnergyUse\"], color=\"purple\")\n",
    "plt.title(\"LargestPropertyUseTypeGFA / SiteEnergyUse\")\n",
    "ax = fig.add_subplot(5,3,4)\n",
    "plt.scatter(data_exploration[\"LargestPropertyUseTypeGFA\"], data_exploration[\"TotalGHGEmissions\"], color=\"orange\")\n",
    "plt.title(\"LargestPropertyUseTypeGFA / TotalGHGEmissions\")\n",
    "\n",
    "print(\"Moyenne: \", round(data_exploration[\"LargestPropertyUseTypeGFA\"].mean(),2)\n",
    "     ,\" Mediane: \", round(data_exploration[\"LargestPropertyUseTypeGFA\"].median(),2)\n",
    "     ,\" Mode: \", round(data_exploration[\"LargestPropertyUseTypeGFA\"].mode()[0],2)\n",
    "     ,\" Variance: \", round(data_exploration[\"LargestPropertyUseTypeGFA\"].var(),2)\n",
    "     ,\" Ecart-type: \", round(data_exploration[\"LargestPropertyUseTypeGFA\"].std(),2))"
   ]
  },
  {
   "cell_type": "code",
   "execution_count": null,
   "metadata": {},
   "outputs": [],
   "source": [
    "#On observe l'histogramme, le boxplot et le nuage de points par rapport aux variables cibles\n",
    "fig = plt.figure(figsize=(20,20))\n",
    "ax = fig.add_subplot(5,3,1)\n",
    "data_exploration[\"NumberofFloors\"].hist()\n",
    "plt.title(\"Histogramme NumberofFloors\")\n",
    "ax = fig.add_subplot(5,3,2)\n",
    "sns.boxplot(x = 'NumberofFloors', data=data_exploration, orient=\"h\", palette=\"Set2\")\n",
    "plt.title(\"Boxplot NumberofFloors\")\n",
    "ax = fig.add_subplot(5,3,3)\n",
    "plt.scatter(data_exploration[\"NumberofFloors\"], data_exploration[\"SiteEnergyUse\"], color=\"purple\")\n",
    "plt.title(\"NumberofFloors / SiteEnergyUse\")\n",
    "ax = fig.add_subplot(5,3,4)\n",
    "plt.scatter(data_exploration[\"NumberofFloors\"], data_exploration[\"TotalGHGEmissions\"], color=\"orange\")\n",
    "plt.title(\"NumberofFloors / TotalGHGEmissions\")\n",
    "\n",
    "print(\"Moyenne: \", round(data_exploration[\"NumberofFloors\"].mean(),2)\n",
    "     ,\" Mediane: \", round(data_exploration[\"NumberofFloors\"].median(),2)\n",
    "     ,\" Mode: \", round(data_exploration[\"NumberofFloors\"].mode()[0],2)\n",
    "     ,\" Variance: \", round(data_exploration[\"NumberofFloors\"].var(),2)\n",
    "     ,\" Ecart-type: \", round(data_exploration[\"NumberofFloors\"].std(),2))"
   ]
  },
  {
   "cell_type": "code",
   "execution_count": null,
   "metadata": {},
   "outputs": [],
   "source": [
    "#On observe l'histogramme, le boxplot et le nuage de points par rapport aux variables cibles\n",
    "fig = plt.figure(figsize=(20,20))\n",
    "ax = fig.add_subplot(5,3,1)\n",
    "data_exploration[\"Latitude\"].hist()\n",
    "plt.title(\"Histogramme Latitude\")\n",
    "ax = fig.add_subplot(5,3,2)\n",
    "sns.boxplot(x = 'Latitude', data=data_exploration, orient=\"h\", palette=\"Set2\")\n",
    "plt.title(\"Boxplot Latitude\")\n",
    "ax = fig.add_subplot(5,3,3)\n",
    "plt.scatter(data_exploration[\"Latitude\"], data_exploration[\"SiteEnergyUse\"], color=\"purple\")\n",
    "plt.title(\"Latitude / SiteEnergyUse\")\n",
    "ax = fig.add_subplot(5,3,4)\n",
    "plt.scatter(data_exploration[\"Latitude\"], data_exploration[\"TotalGHGEmissions\"], color=\"orange\")\n",
    "plt.title(\"Latitude / TotalGHGEmissions\")\n",
    "\n",
    "print(\"Moyenne: \", round(data_exploration[\"Latitude\"].mean(),2)\n",
    "     ,\" Mediane: \", round(data_exploration[\"Latitude\"].median(),2)\n",
    "     ,\" Mode: \", round(data_exploration[\"Latitude\"].mode()[0],2)\n",
    "     ,\" Variance: \", round(data_exploration[\"Latitude\"].var(),2)\n",
    "     ,\" Ecart-type: \", round(data_exploration[\"Latitude\"].std(),2))"
   ]
  },
  {
   "cell_type": "code",
   "execution_count": null,
   "metadata": {},
   "outputs": [],
   "source": [
    "#On observe l'histogramme, le boxplot et le nuage de points par rapport aux variables cibles\n",
    "fig = plt.figure(figsize=(20,20))\n",
    "ax = fig.add_subplot(5,3,1)\n",
    "data_exploration[\"Longitude\"].hist()\n",
    "plt.title(\"Histogramme Longitude\")\n",
    "ax = fig.add_subplot(5,3,2)\n",
    "sns.boxplot(x = 'Longitude', data=data_exploration, orient=\"h\", palette=\"Set2\")\n",
    "plt.title(\"Boxplot Longitude\")\n",
    "ax = fig.add_subplot(5,3,3)\n",
    "plt.scatter(data_exploration[\"Longitude\"], data_exploration[\"SiteEnergyUse\"], color=\"purple\")\n",
    "plt.title(\"Longitude / SiteEnergyUse\")\n",
    "ax = fig.add_subplot(5,3,4)\n",
    "plt.scatter(data_exploration[\"Longitude\"], data_exploration[\"TotalGHGEmissions\"], color=\"orange\")\n",
    "plt.title(\"Longitude / TotalGHGEmissions\")\n",
    "\n",
    "print(\"Moyenne: \", round(data_exploration[\"Longitude\"].mean(),2)\n",
    "     ,\" Mediane: \", round(data_exploration[\"Longitude\"].median(),2)\n",
    "     ,\" Mode: \", round(data_exploration[\"Longitude\"].mode()[0],2)\n",
    "     ,\" Variance: \", round(data_exploration[\"Longitude\"].var(),2)\n",
    "     ,\" Ecart-type: \", round(data_exploration[\"Longitude\"].std(),2))"
   ]
  },
  {
   "cell_type": "code",
   "execution_count": null,
   "metadata": {},
   "outputs": [],
   "source": [
    "#A#On observe l'histogramme, le boxplot et le nuage de points par rapport aux variables cibles\n",
    "fig = plt.figure(figsize=(20,20))\n",
    "ax = fig.add_subplot(5,3,1)\n",
    "data_exploration[\"TotalGHGEmissions\"].hist()\n",
    "plt.title(\"Histogramme TotalGHGEmissions\")\n",
    "ax = fig.add_subplot(5,3,2)\n",
    "sns.boxplot(x = 'TotalGHGEmissions', data=data_exploration, orient=\"h\", palette=\"Set2\")\n",
    "plt.title(\"Boxplot TotalGHGEmissions\")\n",
    "ax = fig.add_subplot(5,3,3)\n",
    "plt.scatter(data_exploration[\"TotalGHGEmissions\"], data_exploration[\"SiteEnergyUse\"], color=\"purple\")\n",
    "plt.title(\"TotalGHGEmissions / SiteEnergyUse\")\n",
    "ax = fig.add_subplot(5,3,4)\n",
    "plt.scatter(data_exploration[\"TotalGHGEmissions\"], data_exploration[\"TotalGHGEmissions\"], color=\"orange\")\n",
    "plt.title(\"TotalGHGEmissions / TotalGHGEmissions\")\n",
    "\n",
    "print(\"Moyenne: \", round(data_exploration[\"TotalGHGEmissions\"].mean(),2)\n",
    "     ,\" Mediane: \", round(data_exploration[\"TotalGHGEmissions\"].median(),2)\n",
    "     ,\" Mode: \", round(data_exploration[\"TotalGHGEmissions\"].mode()[0],2)\n",
    "     ,\" Variance: \", round(data_exploration[\"TotalGHGEmissions\"].var(),2)\n",
    "     ,\" Ecart-type: \", round(data_exploration[\"TotalGHGEmissions\"].std(),2))"
   ]
  },
  {
   "cell_type": "code",
   "execution_count": null,
   "metadata": {},
   "outputs": [],
   "source": [
    "#On observe l'histogramme, le boxplot et le nuage de points par rapport aux variables cibles\n",
    "fig = plt.figure(figsize=(20,20))\n",
    "ax = fig.add_subplot(5,3,1)\n",
    "data_exploration[\"SiteEnergyUse\"].hist()\n",
    "plt.title(\"Histogramme SiteEnergyUse\")\n",
    "ax = fig.add_subplot(5,3,2)\n",
    "sns.boxplot(x = 'SiteEnergyUse', data=data_exploration, orient=\"h\", palette=\"Set2\")\n",
    "plt.title(\"Boxplot SiteEnergyUse\")\n",
    "ax = fig.add_subplot(5,3,3)\n",
    "plt.scatter(data_exploration[\"SiteEnergyUse\"], data_exploration[\"SiteEnergyUse\"], color=\"purple\")\n",
    "plt.title(\"SiteEnergyUse / SiteEnergyUse\")\n",
    "ax = fig.add_subplot(5,3,4)\n",
    "plt.scatter(data_exploration[\"SiteEnergyUse\"], data_exploration[\"TotalGHGEmissions\"], color=\"orange\")\n",
    "plt.title(\"SiteEnergyUse / TotalGHGEmissions\")\n",
    "\n",
    "print(\"Moyenne: \", round(data_exploration[\"SiteEnergyUse\"].mean(),2)\n",
    "     ,\" Mediane: \", round(data_exploration[\"SiteEnergyUse\"].median(),2)\n",
    "     ,\" Mode: \", round(data_exploration[\"SiteEnergyUse\"].mode()[0],2)\n",
    "     ,\" Variance: \", round(data_exploration[\"SiteEnergyUse\"].var(),2)\n",
    "     ,\" Ecart-type: \", round(data_exploration[\"SiteEnergyUse\"].std(),2))"
   ]
  },
  {
   "cell_type": "code",
   "execution_count": null,
   "metadata": {},
   "outputs": [],
   "source": [
    "# On trace notre matrice de corrélation\n",
    "data_corr = data_opt[['PropertyGFATotal', 'PropertyGFAParking', 'PropertyGFABuilding(s)','NumberofFloors',\n",
    "                  'LargestPropertyUseTypeGFA', 'Latitude', 'Longitude','YearBuilt', 'ENERGYSTARScore'\n",
    "                      , 'TotalGHGEmissions', 'SiteEnergyUse']]\n",
    "\n",
    "\n",
    "fig = plt.figure(figsize=(80,80))\n",
    "ax = fig.add_subplot(10,10,1)\n",
    "sns.heatmap(data_corr.corr(), annot=True, ax = ax, cmap=\"Reds\")\n",
    "\n",
    "ax = fig.add_subplot(10,10,3)\n",
    "sns.heatmap(data_corr.corr(method='spearman'), annot=True, ax = ax, cmap=\"Reds\")"
   ]
  },
  {
   "cell_type": "code",
   "execution_count": null,
   "metadata": {},
   "outputs": [],
   "source": [
    "#On trace notre nuage de point par rapport à la variable cible SiteEnergyUse\n",
    "sns.pairplot(data_corr, x_vars =['PropertyGFATotal', 'PropertyGFAParking', 'PropertyGFABuilding(s)','NumberofFloors',\n",
    "                  'LargestPropertyUseTypeGFA', 'ENERGYSTARScore', 'Latitude', 'Longitude','YearBuilt'], y_vars=[\"SiteEnergyUse\"])"
   ]
  },
  {
   "cell_type": "code",
   "execution_count": null,
   "metadata": {},
   "outputs": [],
   "source": [
    "#On trace notre nuage de point par rapport à la variable cible TotalGHGEmissions\n",
    "sns.pairplot(data_corr, x_vars =['PropertyGFATotal', 'PropertyGFAParking', 'PropertyGFABuilding(s)','NumberofFloors',\n",
    "                  'LargestPropertyUseTypeGFA', 'ENERGYSTARScore', 'Latitude', 'Longitude','YearBuilt'], y_vars=[\"TotalGHGEmissions\"])"
   ]
  },
  {
   "cell_type": "code",
   "execution_count": null,
   "metadata": {},
   "outputs": [],
   "source": [
    "#On observe la distribution des variables\n",
    "sns.jointplot(x=\"PropertyGFATotal\", y=\"SiteEnergyUse\", data=data_corr,\n",
    "                  kind=\"reg\", truncate=False,\n",
    "                  color=\"m\", height=5)\n",
    "sns.jointplot(x=\"PropertyGFATotal\", y=\"TotalGHGEmissions\", data=data_corr,\n",
    "                  kind=\"reg\", truncate=False,\n",
    "                  color=\"m\", height=5)"
   ]
  },
  {
   "cell_type": "code",
   "execution_count": null,
   "metadata": {},
   "outputs": [],
   "source": [
    "#On créé un dataframe pour passer les variables ayant une trop grande amplitude au log\n",
    "data_corr_log = data_corr.copy()"
   ]
  },
  {
   "cell_type": "code",
   "execution_count": null,
   "metadata": {},
   "outputs": [],
   "source": [
    "#On supprime ou remplace les valeurs négatives ou nulles puis on les passe au log\n",
    "data_corr_log.loc[data_corr_log['PropertyGFAParking'] <= 0, 'PropertyGFAParking'] = min(data_corr_log[data_corr_log['PropertyGFAParking'] > 0]['PropertyGFAParking'])\n",
    "data_corr_log.loc[data_corr_log['NumberofFloors'] <= 0, 'NumberofFloors'] = min(data_corr_log[data_corr_log['NumberofFloors'] > 0]['NumberofFloors'])\n",
    "data_corr_log = data_corr_log.loc[data_corr_log['SiteEnergyUse'] > 0]\n",
    "data_corr_log = data_corr_log.loc[data_corr_log['TotalGHGEmissions'] > 0]\n",
    "\n",
    "\n",
    "data_corr_log.loc[:,'PropertyGFATotal'] = np.log(data_corr_log['PropertyGFATotal'])\n",
    "data_corr_log.loc[:,'PropertyGFAParking'] = np.log(data_corr_log['PropertyGFAParking'])\n",
    "data_corr_log.loc[:,'PropertyGFABuilding(s)'] = np.log(data_corr_log['PropertyGFABuilding(s)'])\n",
    "data_corr_log.loc[:,'NumberofFloors'] = np.log(data_corr_log['NumberofFloors'])\n",
    "data_corr_log.loc[:,'LargestPropertyUseTypeGFA'] = np.log(data_corr_log['LargestPropertyUseTypeGFA'])\n",
    "data_corr_log.loc[:,'Latitude'] = np.log(data_corr_log['Latitude'])\n",
    "data_corr_log.loc[:,'ENERGYSTARScore'] = np.log(data_corr_log['ENERGYSTARScore'])\n",
    "data_corr_log.loc[:,'SiteEnergyUse'] = np.log(data_corr_log['SiteEnergyUse'])\n",
    "data_corr_log.loc[:,'TotalGHGEmissions'] = np.log(data_corr_log['TotalGHGEmissions'])\n",
    "\n"
   ]
  },
  {
   "cell_type": "code",
   "execution_count": null,
   "metadata": {},
   "outputs": [],
   "source": [
    "# On trace notre matrice de corrélation avec nos valeurs passées au log\n",
    "fig = plt.figure(figsize=(80,80))\n",
    "ax = fig.add_subplot(10,10,1)\n",
    "sns.heatmap(data_corr_log.corr(), annot=True, ax = ax, cmap=\"Reds\")\n",
    "\n",
    "ax = fig.add_subplot(10,10,3)\n",
    "sns.heatmap(data_corr_log.corr(method='spearman'), annot=True, ax = ax, cmap=\"Reds\")"
   ]
  },
  {
   "cell_type": "code",
   "execution_count": null,
   "metadata": {},
   "outputs": [],
   "source": [
    "#On trace notre nuage de point par rapport à la variable cible SiteEnergyUse\n",
    "sns.pairplot(data_corr_log, x_vars =['PropertyGFATotal', 'PropertyGFAParking', 'PropertyGFABuilding(s)','NumberofFloors',\n",
    "                  'LargestPropertyUseTypeGFA', 'ENERGYSTARScore', 'Latitude', 'Longitude','YearBuilt'], y_vars=[\"SiteEnergyUse\"])"
   ]
  },
  {
   "cell_type": "code",
   "execution_count": null,
   "metadata": {},
   "outputs": [],
   "source": [
    "#On trace notre nuage de point par rapport à la variable cible TotalGHGEmissions\n",
    "sns.pairplot(data_corr_log, x_vars =['PropertyGFATotal', 'PropertyGFAParking', 'PropertyGFABuilding(s)','NumberofFloors',\n",
    "                  'LargestPropertyUseTypeGFA', 'ENERGYSTARScore', 'Latitude', 'Longitude','YearBuilt'], y_vars=[\"TotalGHGEmissions\"])"
   ]
  },
  {
   "cell_type": "code",
   "execution_count": null,
   "metadata": {},
   "outputs": [],
   "source": [
    "#On observe la distribution des variables en log\n",
    "sns.jointplot(x=\"PropertyGFATotal\", y=\"SiteEnergyUse\", data=data_corr_log,\n",
    "                  kind=\"reg\", truncate=False,\n",
    "                  color=\"m\", height=5)\n",
    "sns.jointplot(x=\"PropertyGFATotal\", y=\"TotalGHGEmissions\", data=data_corr_log,\n",
    "                  kind=\"reg\", truncate=False,\n",
    "                  color=\"m\", height=5)"
   ]
  },
  {
   "cell_type": "code",
   "execution_count": null,
   "metadata": {},
   "outputs": [],
   "source": [
    "#On enregistre le dataframe optimisé pour l'utiliser pour nos modèles\n",
    "data_opt.to_csv(\"data-optimise.csv\")"
   ]
  }
 ],
 "metadata": {
  "kernelspec": {
   "display_name": "Python 3",
   "language": "python",
   "name": "python3"
  },
  "language_info": {
   "codemirror_mode": {
    "name": "ipython",
    "version": 3
   },
   "file_extension": ".py",
   "mimetype": "text/x-python",
   "name": "python",
   "nbconvert_exporter": "python",
   "pygments_lexer": "ipython3",
   "version": "3.7.6"
  }
 },
 "nbformat": 4,
 "nbformat_minor": 4
}
